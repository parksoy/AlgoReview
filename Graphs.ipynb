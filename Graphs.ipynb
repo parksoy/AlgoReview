{
 "cells": [
  {
   "attachments": {},
   "cell_type": "markdown",
   "metadata": {},
   "source": [
    "# Graphs\n",
    "\n",
    "\n",
    "\"Relationships\" between them.  \n",
    "implement graph, adjacency matrix.  \n",
    "Watch out cycles= can cause infinite loops.   \n",
    "Marking nodes or hashtable as visited.  \n",
    "Directed vs undirected  \n",
    "weighted edges: cost to travel A to B  \n",
    "BFS vs. DFS vs. Bidirectional.   "
   ]
  },
  {
   "attachments": {},
   "cell_type": "markdown",
   "metadata": {},
   "source": [
    "## Depth First search\n",
    "NOT very good at shortest path.\n",
    "Go deep before searching wide. recursively on each node. "
   ]
  },
  {
   "cell_type": "code",
   "execution_count": 1,
   "metadata": {},
   "outputs": [
    {
     "name": "stdout",
     "output_type": "stream",
     "text": [
      "Shortest path between A and D: ['A', 'B', 'D']\n"
     ]
    }
   ],
   "source": [
    "# Depth First search - Shortest path\n",
    "\n",
    "class Node:\n",
    "    def __init__(self, name):\n",
    "        self.name = name\n",
    "        self.neighbors = []\n",
    "        self.visited = False\n",
    "\n",
    "    def add_neighbor(self, neighbor):\n",
    "        self.neighbors.append(neighbor)\n",
    "\n",
    "class Graph:\n",
    "    def __init__(self):\n",
    "        self.nodes = {}\n",
    "\n",
    "    def add_edge(self, u, v):\n",
    "        if u not in self.nodes:\n",
    "            self.nodes[u] = Node(u)\n",
    "        if v not in self.nodes:\n",
    "            self.nodes[v] = Node(v)\n",
    "\n",
    "        self.nodes[u].add_neighbor(v)\n",
    "        self.nodes[v].add_neighbor(u)  # For an undirected graph, add this line.\n",
    "\n",
    "    def dfs(self, start, end, path):\n",
    "        current_node = self.nodes[start]\n",
    "        current_node.visited = True\n",
    "        path.append(start)\n",
    "\n",
    "        if start == end:\n",
    "            return path\n",
    "\n",
    "        for neighbor in current_node.neighbors:\n",
    "            if not self.nodes[neighbor].visited:\n",
    "                new_path = self.dfs(neighbor, end, path)\n",
    "                if new_path:\n",
    "                    return new_path\n",
    "\n",
    "        path.pop()\n",
    "        return None\n",
    "\n",
    "    def shortest_path(self, start, end):\n",
    "        for node in self.nodes.values():\n",
    "            node.visited = False\n",
    "\n",
    "        path = []\n",
    "        return self.dfs(start, end, path)\n",
    "\n",
    "# Create the friendship network\n",
    "graph = Graph()\n",
    "graph.add_edge('A', 'B')\n",
    "graph.add_edge('A', 'C')\n",
    "graph.add_edge('B', 'D')\n",
    "graph.add_edge('C', 'E')\n",
    "graph.add_edge('D', 'F')\n",
    "graph.add_edge('E', 'G')\n",
    "graph.add_edge('F', 'H')\n",
    "graph.add_edge('G', 'H')\n",
    "\n",
    "# Find the shortest path between person A and person D\n",
    "shortest_path = graph.shortest_path('A', 'D')\n",
    "print(\"Shortest path between A and D:\", shortest_path)  # Output: ['A', 'B', 'D']"
   ]
  },
  {
   "attachments": {},
   "cell_type": "markdown",
   "metadata": {},
   "source": [
    "## Breadth First Search (BFS)\n",
    "\n",
    "Good at shortest path.  \n",
    "Use a queue (built in: deque).   \n",
    "Runtime O(E) to find path, E is number of edges.   \n",
    "If searching entire graph with BFS, then O(V+E)  \n",
    "\n",
    "Bidirectional Breadth-First Search is faster.   \n",
    "Assume, each person has d friends, after paths of length k,   \n",
    "\n",
    "BFS: d^k  \n",
    "Bidirectional: d^(k/2)+d^(k/2)  "
   ]
  },
  {
   "cell_type": "code",
   "execution_count": 2,
   "metadata": {},
   "outputs": [
    {
     "name": "stdout",
     "output_type": "stream",
     "text": [
      "Shortest path between A and D: ['A', 'B', 'D']\n"
     ]
    }
   ],
   "source": [
    "from collections import deque\n",
    "\n",
    "class Node:\n",
    "    def __init__(self, name):\n",
    "        self.name = name\n",
    "        self.neighbors = []\n",
    "        self.visited = False\n",
    "\n",
    "    def add_neighbor(self, neighbor):\n",
    "        self.neighbors.append(neighbor)\n",
    "\n",
    "class Graph:\n",
    "    def __init__(self):\n",
    "        self.nodes = {}\n",
    "\n",
    "    def add_edge(self, u, v):\n",
    "        if u not in self.nodes:\n",
    "            self.nodes[u] = Node(u)\n",
    "        if v not in self.nodes:\n",
    "            self.nodes[v] = Node(v)\n",
    "\n",
    "        self.nodes[u].add_neighbor(v)\n",
    "        self.nodes[v].add_neighbor(u)  # For an undirected graph, add this line.\n",
    "\n",
    "    def bfs_shortest_path(self, start, end):\n",
    "        queue = deque([(start, [])])\n",
    "        visited = set()\n",
    "\n",
    "        while queue:\n",
    "            current, path = queue.popleft()\n",
    "\n",
    "            if current == end:\n",
    "                return path + [current]\n",
    "\n",
    "            if current not in visited:\n",
    "                visited.add(current)\n",
    "                for neighbor in self.nodes[current].neighbors:\n",
    "                    if neighbor not in visited:\n",
    "                        queue.append((neighbor, path + [current]))\n",
    "\n",
    "        return None\n",
    "\n",
    "# Create the friendship network\n",
    "graph = Graph()\n",
    "graph.add_edge('A', 'B')\n",
    "graph.add_edge('A', 'C')\n",
    "graph.add_edge('B', 'D')\n",
    "graph.add_edge('C', 'E')\n",
    "graph.add_edge('D', 'F')\n",
    "graph.add_edge('E', 'G')\n",
    "graph.add_edge('F', 'H')\n",
    "graph.add_edge('G', 'H')\n",
    "\n",
    "# Find the shortest path between person A and person D using BFS\n",
    "shortest_path = graph.bfs_shortest_path('A', 'D')\n",
    "print(\"Shortest path between A and D:\", shortest_path)  # Output: ['A', 'B', 'D']\n"
   ]
  },
  {
   "attachments": {},
   "cell_type": "markdown",
   "metadata": {},
   "source": [
    "### Python built in for Graph: \n",
    "\n"
   ]
  },
  {
   "cell_type": "code",
   "execution_count": 4,
   "metadata": {},
   "outputs": [
    {
     "name": "stdout",
     "output_type": "stream",
     "text": [
      "Shortest path between A and D: ['A', 'B', 'D']\n"
     ]
    }
   ],
   "source": [
    "import networkx as nx\n",
    "\n",
    "# Create a graph\n",
    "G = nx.Graph()\n",
    "G.add_edges_from([('A', 'B'), ('A', 'C'), ('B', 'D'), ('C', 'E'), ('D', 'F'), ('E', 'G'), ('F', 'H'), ('G', 'H')])\n",
    "\n",
    "# Find the shortest path between 'A' and 'D'\n",
    "# BFS (Breadth-First Search) used\n",
    "shortest_path = nx.shortest_path(G, source='A', target='D')\n",
    "print(\"Shortest path between A and D:\", shortest_path)  # Output: ['A', 'B', 'D']\n"
   ]
  },
  {
   "cell_type": "code",
   "execution_count": null,
   "metadata": {},
   "outputs": [],
   "source": []
  }
 ],
 "metadata": {
  "kernelspec": {
   "display_name": "py3p10",
   "language": "python",
   "name": "python3"
  },
  "language_info": {
   "codemirror_mode": {
    "name": "ipython",
    "version": 3
   },
   "file_extension": ".py",
   "mimetype": "text/x-python",
   "name": "python",
   "nbconvert_exporter": "python",
   "pygments_lexer": "ipython3",
   "version": "3.10.4"
  },
  "orig_nbformat": 4
 },
 "nbformat": 4,
 "nbformat_minor": 2
}

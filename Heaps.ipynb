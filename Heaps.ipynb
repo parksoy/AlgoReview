{
 "cells": [
  {
   "attachments": {},
   "cell_type": "markdown",
   "metadata": {},
   "source": [
    "# Heaps\n",
    "In python, import heapq.\n",
    "\n",
    "A heap is a tree-based data structure but with an unusual ordering property. In a min-heap, each node is smaller than all the nodes underneath it. Even though heaps are tree-based, we typically implement them using arrays. Learn how to use heaps and insert and remove elements.\n",
    "\n",
    "One of Priority Queues\n",
    "Abstract data type\n",
    "Min max priority\n",
    "Tree is always complete, no gap. "
   ]
  },
  {
   "attachments": {},
   "cell_type": "markdown",
   "metadata": {},
   "source": [
    "## Min heaps\n",
    "Binary heap.\n",
    "While maintain compelte property, \n",
    "\n",
    "Insert: O(logN) worst, avg. \n",
    "1. put a mode in \"next\" open space.\n",
    "2. Bubble up to right spot.\n",
    "\n",
    "Extract min: O(logN) worst, avg. \n",
    "1. get top. \n",
    "2. swap top with \"last\" value\n",
    "3. look left to right\n",
    "4. fix heap\n",
    "\n",
    "How to traverse:  \n",
    "far left: doubling. Double +1, +2"
   ]
  },
  {
   "cell_type": "code",
   "execution_count": 2,
   "metadata": {},
   "outputs": [
    {
     "name": "stdout",
     "output_type": "stream",
     "text": [
      "1\n",
      "2\n",
      "4\n",
      "6\n",
      "8\n",
      "10\n",
      "9\n",
      "7\n",
      "5\n",
      "3\n",
      "max 10\n",
      "min 1\n"
     ]
    }
   ],
   "source": []
  },
  {
   "cell_type": "code",
   "execution_count": 7,
   "metadata": {},
   "outputs": [
    {
     "name": "stdout",
     "output_type": "stream",
     "text": [
      "   10\n",
      "2\n",
      "   5\n",
      "      7\n",
      "Extracted min: 2\n",
      "   10\n",
      "5\n",
      "   7\n"
     ]
    }
   ],
   "source": [
    "class Node:\n",
    "    def __init__(self, value):\n",
    "        self.value = value\n",
    "\n",
    "class MinHeap:\n",
    "    def __init__(self):\n",
    "        self.heap_list = []\n",
    "\n",
    "    def insert(self, value):\n",
    "        node = Node(value)\n",
    "        self.heap_list.append(node)\n",
    "        self.heapify_up(len(self.heap_list) - 1)\n",
    "\n",
    "    def heapify_up(self, index):\n",
    "        parent_index = (index - 1) // 2\n",
    "        if parent_index >= 0 and self.heap_list[index].value < self.heap_list[parent_index].value:\n",
    "            self.heap_list[index], self.heap_list[parent_index] = self.heap_list[parent_index], self.heap_list[index]\n",
    "            self.heapify_up(parent_index)\n",
    "\n",
    "    def extract_min(self):\n",
    "        if not self.heap_list:\n",
    "            return None\n",
    "        if len(self.heap_list) == 1:\n",
    "            return self.heap_list.pop().value\n",
    "\n",
    "        min_value = self.heap_list[0].value\n",
    "        self.heap_list[0] = self.heap_list.pop()\n",
    "        self.heapify_down(0)\n",
    "        return min_value\n",
    "\n",
    "    def heapify_down(self, index):\n",
    "        left_child_index = 2 * index + 1\n",
    "        right_child_index = 2 * index + 2\n",
    "        smallest = index\n",
    "\n",
    "        if left_child_index < len(self.heap_list) and self.heap_list[left_child_index].value < self.heap_list[smallest].value:\n",
    "            smallest = left_child_index\n",
    "\n",
    "        if right_child_index < len(self.heap_list) and self.heap_list[right_child_index].value < self.heap_list[smallest].value:\n",
    "            smallest = right_child_index\n",
    "\n",
    "        if smallest != index:\n",
    "            self.heap_list[index], self.heap_list[smallest] = self.heap_list[smallest], self.heap_list[index]\n",
    "            self.heapify_down(smallest)\n",
    "\n",
    "    def peek_min(self):\n",
    "        return self.heap_list[0].value if self.heap_list else None\n",
    "\n",
    "    def is_empty(self):\n",
    "        return len(self.heap_list) == 0\n",
    "\n",
    "    def print_heap(self):\n",
    "        self._print_heap_recursive(0, 0)\n",
    "\n",
    "    def _print_heap_recursive(self, index, level):\n",
    "        if index >= len(self.heap_list):\n",
    "            return\n",
    "\n",
    "        right_child_index = 2 * index + 2\n",
    "        self._print_heap_recursive(right_child_index, level + 1)\n",
    "\n",
    "        print(\"   \" * level + str(self.heap_list[index].value))\n",
    "\n",
    "        left_child_index = 2 * index + 1\n",
    "        self._print_heap_recursive(left_child_index, level + 1)\n",
    "\n",
    "# Example usage:\n",
    "min_heap = MinHeap()\n",
    "min_heap.insert(5)\n",
    "min_heap.insert(2)\n",
    "min_heap.insert(10)\n",
    "min_heap.insert(7)\n",
    "\n",
    "min_heap.print_heap()\n",
    "\n",
    "print(\"Extracted min: \" + str(min_heap.extract_min()))\n",
    "min_heap.print_heap()"
   ]
  },
  {
   "attachments": {},
   "cell_type": "markdown",
   "metadata": {},
   "source": [
    "### Find the three largest numbers/smallest"
   ]
  },
  {
   "cell_type": "code",
   "execution_count": 8,
   "metadata": {},
   "outputs": [
    {
     "name": "stdout",
     "output_type": "stream",
     "text": [
      "[541, 141, 18]\n"
     ]
    }
   ],
   "source": [
    "import heapq\n",
    "\n",
    "def find_three_largest_numbers(array):\n",
    "    return heapq.nlargest(3, array)\n",
    "\n",
    "array=[141,1,17,-7,-17,-27,18,541,8,7,7]\n",
    "print(find_three_largest_numbers(array))"
   ]
  },
  {
   "cell_type": "code",
   "execution_count": 9,
   "metadata": {},
   "outputs": [
    {
     "name": "stdout",
     "output_type": "stream",
     "text": [
      "[-27, -17, -7]\n"
     ]
    }
   ],
   "source": [
    "def find_k_smallest_numbers(array, k):\n",
    "    return heapq.nsmallest(k, array)\n",
    "\n",
    "array=[141,1,17,-7,-17,-27,18,541,8,7,7]\n",
    "print(find_k_smallest_numbers(array, 3))"
   ]
  },
  {
   "cell_type": "code",
   "execution_count": null,
   "metadata": {},
   "outputs": [],
   "source": []
  }
 ],
 "metadata": {
  "kernelspec": {
   "display_name": "py3p10",
   "language": "python",
   "name": "python3"
  },
  "language_info": {
   "codemirror_mode": {
    "name": "ipython",
    "version": 3
   },
   "file_extension": ".py",
   "mimetype": "text/x-python",
   "name": "python",
   "nbconvert_exporter": "python",
   "pygments_lexer": "ipython3",
   "version": "3.10.4"
  },
  "orig_nbformat": 4
 },
 "nbformat": 4,
 "nbformat_minor": 2
}

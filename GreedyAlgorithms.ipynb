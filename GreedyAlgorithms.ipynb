{
 "cells": [
  {
   "attachments": {},
   "cell_type": "markdown",
   "metadata": {},
   "source": [
    "# Greedy algorithms  \n",
    "Knowing when not to use, when to use is important.  \n",
    "What is the biggest ingester we can make with 0,2,5,6,8,9?  \n",
    "\n",
    "### Dynamic programming:  \n",
    "Try each option, pick the best option.  \n",
    "\n",
    "```\n",
    "try 9  \n",
    "    recurse on remaing  \n",
    "    pick the biggest  \n",
    "\n",
    "try 5  \n",
    "    recurse on remaing  \n",
    "    pick the biggest  \n",
    "```\n",
    "\n",
    "### Greedy Approach:  \n",
    "Make the best choice right now, not to worry about the future.  \n",
    "If not sufficient, you will need to use dynamic, or fall back to recursion.  \n",
    "\n",
    "\n"
   ]
  },
  {
   "attachments": {},
   "cell_type": "markdown",
   "metadata": {},
   "source": [
    "## When to use Greedy, Dynamic, vs recursion?\n",
    "\n",
    "In summary, you can use the Greedy approach when you can make locally optimal choices to reach a global optimum. Dynamic Programming is useful when you need to solve problems with overlapping subproblems, and Recursion is suitable for problems that can be divided into smaller instances of the same problem.\n",
    "\n",
    "Greedy Approach:  \n",
    "The Greedy approach involves making the locally optimal choice at each step with the hope of finding a global optimum. It is usually used when a problem can be solved by considering only the current state without worrying about future consequences. Greedy algorithms are simple, efficient, and often provide a reasonable solution but may not always guarantee an optimal solution for all cases.  \n",
    "Example: The Coin Change Problem  \n",
    "In the coin change problem, given a set of coin denominations and a target amount, the task is to find the minimum number of coins needed to make up that amount.  \n",
    "\n",
    "\n",
    "Dynamic Programming:  \n",
    "Dynamic Programming (DP) is used to solve problems where the solution can be broken down into smaller overlapping subproblems. It avoids redundant computations by storing the results of subproblems in a table, and later, these results are used to solve the original problem. DP is useful when there are overlapping subproblems and optimal substructure properties.  \n",
    "Example: The Fibonacci Sequence  \n",
    "The Fibonacci sequence is defined as F(n) = F(n-1) + F(n-2) with base cases F(0) = 0 and F(1) = 1.  \n",
    "\n",
    "Recursion:  \n",
    "Recursion is a technique where a function calls itself to solve smaller instances of the same problem. It is suitable for solving problems that can be divided into smaller subproblems with similar structures. However, recursion can sometimes lead to redundant computations and result in high time complexity.  \n",
    "Example: Factorial Calculation    \n",
    "In the factorial calculation, we find the product of all positive integers up to a given number.    \n",
    "\n"
   ]
  },
  {
   "cell_type": "markdown",
   "metadata": {},
   "source": []
  },
  {
   "cell_type": "code",
   "execution_count": 2,
   "metadata": {},
   "outputs": [
    {
     "name": "stdout",
     "output_type": "stream",
     "text": [
      "6\n"
     ]
    }
   ],
   "source": [
    "# Greedy\n",
    "\n",
    "def coin_change(coins, target):\n",
    "    coins.sort(reverse=True)\n",
    "    num_coins = 0\n",
    "    for coin in coins:\n",
    "        num_coins += target // coin\n",
    "        target %= coin\n",
    "    return num_coins\n",
    "\n",
    "# Example usage:\n",
    "coins = [1, 5, 10, 25]\n",
    "target_amount = 43\n",
    "print(coin_change(coins, target_amount))  # Output: 5 (25 + 10 + 5 + 1 + 1 + 1)\n",
    "\n"
   ]
  },
  {
   "cell_type": "code",
   "execution_count": 1,
   "metadata": {},
   "outputs": [
    {
     "name": "stdout",
     "output_type": "stream",
     "text": [
      "8\n"
     ]
    }
   ],
   "source": [
    "#Dynamic\n",
    "\n",
    "def fibonacci(n):\n",
    "    if n == 0:\n",
    "        return 0\n",
    "    if n == 1:\n",
    "        return 1\n",
    "    dp = [0] * (n + 1)\n",
    "    dp[0], dp[1] = 0, 1\n",
    "    for i in range(2, n + 1):\n",
    "        dp[i] = dp[i - 1] + dp[i - 2]\n",
    "    return dp[n]\n",
    "\n",
    "# Example usage:\n",
    "n = 6\n",
    "print(fibonacci(n))  # Output: 8 (Fibonacci sequence: 0, 1, 1, 2, 3, 5, 8)\n"
   ]
  },
  {
   "cell_type": "code",
   "execution_count": null,
   "metadata": {},
   "outputs": [],
   "source": [
    "# Recursion\n",
    "\n",
    "def factorial(n):\n",
    "    if n == 0 or n == 1:\n",
    "        return 1\n",
    "    else:\n",
    "        return n * factorial(n - 1)\n",
    "\n",
    "# Example usage:\n",
    "n = 5\n",
    "print(factorial(n))  # Output: 120 (5! = 5 * 4 * 3 * 2 * 1)\n"
   ]
  }
 ],
 "metadata": {
  "kernelspec": {
   "display_name": "py3p10",
   "language": "python",
   "name": "python3"
  },
  "language_info": {
   "codemirror_mode": {
    "name": "ipython",
    "version": 3
   },
   "file_extension": ".py",
   "mimetype": "text/x-python",
   "name": "python",
   "nbconvert_exporter": "python",
   "pygments_lexer": "ipython3",
   "version": "3.10.4"
  },
  "orig_nbformat": 4
 },
 "nbformat": 4,
 "nbformat_minor": 2
}

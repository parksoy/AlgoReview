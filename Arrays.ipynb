{
 "cells": [
  {
   "attachments": {},
   "cell_type": "markdown",
   "metadata": {},
   "source": [
    "# Arrays"
   ]
  },
  {
   "attachments": {},
   "cell_type": "markdown",
   "metadata": {},
   "source": [
    "### Reverse array"
   ]
  },
  {
   "cell_type": "code",
   "execution_count": 17,
   "metadata": {},
   "outputs": [],
   "source": [
    "s=['h','e','l', 'l','0']\n",
    "s.reverse()"
   ]
  },
  {
   "cell_type": "code",
   "execution_count": 18,
   "metadata": {},
   "outputs": [
    {
     "data": {
      "text/plain": [
       "['h', 'e', 'l', 'l', '0']"
      ]
     },
     "execution_count": 18,
     "metadata": {},
     "output_type": "execute_result"
    }
   ],
   "source": [
    "#1. Using Recursion\n",
    "class Solution: #Time O(N), space: O(N)\n",
    "    def reverseString(self, s):\n",
    "        def helper(left,right):\n",
    "            if left < right:\n",
    "                s[left], s[right]=s[right], s[left]\n",
    "                helper(left+1, right-1)\n",
    "        helper(0, len(s)-1)\n",
    "        return s\n",
    "\n",
    "Solution().reverseString(s)\n"
   ]
  },
  {
   "cell_type": "code",
   "execution_count": 19,
   "metadata": {},
   "outputs": [
    {
     "data": {
      "text/plain": [
       "['0', 'l', 'l', 'e', 'h']"
      ]
     },
     "execution_count": 19,
     "metadata": {},
     "output_type": "execute_result"
    }
   ],
   "source": [
    "#Two pointer \n",
    "class Solution: #Time O(N), space: O(1)\n",
    "    def reverseString(self, s):\n",
    "        left,right=0, len(s)-1\n",
    "        while left < right:\n",
    "            s[left], s[right]=s[right], s[left]\n",
    "            left, right=left+1, right-1\n",
    "        return s\n",
    "    \n",
    "Solution().reverseString(s)\n"
   ]
  },
  {
   "attachments": {},
   "cell_type": "markdown",
   "metadata": {},
   "source": [
    "# List operations\n",
    "\n",
    "min(List) , max(List)  \n",
    "List[1][2]  \n",
    "sorted(List)  \n",
    "List.sort()   \n",
    "erged_list = list1 + list2  or list1.extend(list2) "
   ]
  },
  {
   "cell_type": "code",
   "execution_count": null,
   "metadata": {},
   "outputs": [
    {
     "data": {
      "text/plain": [
       "(1, 8)"
      ]
     },
     "metadata": {},
     "output_type": "display_data"
    }
   ],
   "source": [
    "#min max, \n",
    "\n",
    "my_list=[1,5,2,8]\n",
    "\n",
    "min(my_list), max(my_list)"
   ]
  },
  {
   "cell_type": "code",
   "execution_count": 24,
   "metadata": {},
   "outputs": [
    {
     "data": {
      "text/plain": [
       "6"
      ]
     },
     "execution_count": 24,
     "metadata": {},
     "output_type": "execute_result"
    }
   ],
   "source": [
    "#slicing\n",
    "my_list = [[1, 2, 3], [4, 5, 6], [7, 8, 9]]\n",
    "my_list[1][2]"
   ]
  },
  {
   "cell_type": "code",
   "execution_count": 30,
   "metadata": {},
   "outputs": [
    {
     "data": {
      "text/plain": [
       "[[1, 2, 3], [4, 5, 6], [7, 8, 9]]"
      ]
     },
     "execution_count": 30,
     "metadata": {},
     "output_type": "execute_result"
    }
   ],
   "source": [
    "#sort\n",
    "sorted(my_list)"
   ]
  },
  {
   "cell_type": "code",
   "execution_count": 31,
   "metadata": {},
   "outputs": [],
   "source": [
    "my_list.sort()"
   ]
  },
  {
   "cell_type": "code",
   "execution_count": 37,
   "metadata": {},
   "outputs": [
    {
     "data": {
      "text/plain": [
       "[0, 1, 2]"
      ]
     },
     "execution_count": 37,
     "metadata": {},
     "output_type": "execute_result"
    }
   ],
   "source": [
    "# List comprehension\n",
    "[x for x in range(3)]"
   ]
  },
  {
   "cell_type": "code",
   "execution_count": 35,
   "metadata": {},
   "outputs": [
    {
     "data": {
      "text/plain": [
       "[4]"
      ]
     },
     "execution_count": 35,
     "metadata": {},
     "output_type": "execute_result"
    }
   ],
   "source": [
    "\n",
    "[x**2 for x in range (1,4) if x%2==0]"
   ]
  },
  {
   "cell_type": "code",
   "execution_count": 36,
   "metadata": {},
   "outputs": [
    {
     "data": {
      "text/plain": [
       "[(1, 4), (1, 5), (2, 4), (2, 5)]"
      ]
     },
     "execution_count": 36,
     "metadata": {},
     "output_type": "execute_result"
    }
   ],
   "source": [
    "[(x,y) for x in range(1,3) for y in range(4,6)]"
   ]
  },
  {
   "cell_type": "code",
   "execution_count": 38,
   "metadata": {},
   "outputs": [
    {
     "data": {
      "text/plain": [
       "9"
      ]
     },
     "execution_count": 38,
     "metadata": {},
     "output_type": "execute_result"
    }
   ],
   "source": [
    "#Lambda functions\n",
    "square=lambda x:x**2\n",
    "square(3)"
   ]
  },
  {
   "cell_type": "code",
   "execution_count": 41,
   "metadata": {},
   "outputs": [
    {
     "data": {
      "text/plain": [
       "[2, 4, 6, 8, 10]"
      ]
     },
     "execution_count": 41,
     "metadata": {},
     "output_type": "execute_result"
    }
   ],
   "source": [
    "#map\n",
    "my_list=[1,2,3,4,5]\n",
    "list(map(lambda x:x*2, my_list))"
   ]
  },
  {
   "cell_type": "code",
   "execution_count": 42,
   "metadata": {},
   "outputs": [
    {
     "data": {
      "text/plain": [
       "15"
      ]
     },
     "execution_count": 42,
     "metadata": {},
     "output_type": "execute_result"
    }
   ],
   "source": [
    "#reduce\n",
    "\n",
    "from functools import reduce\n",
    "my_list=[1,2,3,4,5]\n",
    "reduce(lambda x,y: x+y, my_list)"
   ]
  },
  {
   "cell_type": "code",
   "execution_count": 43,
   "metadata": {},
   "outputs": [
    {
     "data": {
      "text/plain": [
       "[2, 4]"
      ]
     },
     "execution_count": 43,
     "metadata": {},
     "output_type": "execute_result"
    }
   ],
   "source": [
    "#filter\n",
    "\n",
    "my_list=[1,2,3,4,5]\n",
    "list(filter(lambda x:x%2==0, my_list))"
   ]
  },
  {
   "cell_type": "code",
   "execution_count": 46,
   "metadata": {},
   "outputs": [
    {
     "data": {
      "text/plain": [
       "[5, 1, 3, 2, 4]"
      ]
     },
     "execution_count": 46,
     "metadata": {},
     "output_type": "execute_result"
    }
   ],
   "source": [
    "#sorted\n",
    "my_list=[5,2,4,1,3]\n",
    "sorted(my_list, key=lambda x:x%2==0)"
   ]
  },
  {
   "attachments": {},
   "cell_type": "markdown",
   "metadata": {},
   "source": [
    "# Numpy operation\n",
    "\n",
    "np.min(array), mnp.max(array)   \n",
    "array.sort()   \n",
    "np.sort(array)   \n",
    "np.partition(arry,2)  \n",
    "np.concatenate((array1, array2)), np.vstack((array1, array2)) , np.hstack((array1, array2))"
   ]
  },
  {
   "cell_type": "code",
   "execution_count": 29,
   "metadata": {},
   "outputs": [
    {
     "name": "stdout",
     "output_type": "stream",
     "text": [
      "[[1 2 3]\n",
      " [4 5 6]\n",
      " [7 8 9]]\n"
     ]
    },
    {
     "data": {
      "text/plain": [
       "6"
      ]
     },
     "execution_count": 29,
     "metadata": {},
     "output_type": "execute_result"
    }
   ],
   "source": [
    "import numpy as np\n",
    "\n",
    "#slicing\n",
    "my_arry=np.array(my_list)\n",
    "print(my_arry)\n",
    "my_arry[1,2]"
   ]
  },
  {
   "cell_type": "code",
   "execution_count": 7,
   "metadata": {},
   "outputs": [
    {
     "data": {
      "text/plain": [
       "(1, 8)"
      ]
     },
     "execution_count": 7,
     "metadata": {},
     "output_type": "execute_result"
    }
   ],
   "source": [
    "#min, max\n",
    "my_arry=np.array([my_list])\n",
    "np.min(my_arry), np.max(my_arry)"
   ]
  },
  {
   "cell_type": "code",
   "execution_count": 32,
   "metadata": {},
   "outputs": [],
   "source": [
    "#Sort \n",
    "my_array = np.array([4, 2, 7, 1, 5])\n",
    "my_array.sort()"
   ]
  },
  {
   "cell_type": "code",
   "execution_count": 33,
   "metadata": {},
   "outputs": [
    {
     "data": {
      "text/plain": [
       "array([1, 2, 4, 5, 7])"
      ]
     },
     "execution_count": 33,
     "metadata": {},
     "output_type": "execute_result"
    }
   ],
   "source": [
    "np.sort(my_array)"
   ]
  },
  {
   "attachments": {},
   "cell_type": "markdown",
   "metadata": {},
   "source": [
    "## Dictionary/Hash table vs. List/ArrayList: Very important!!\n",
    "\n",
    "### Hashtable\n",
    "key-value, not sorted.\n",
    "Hash function to map key to index. O(1) time complexity, Fast access to elements based on keys. \n",
    "\n",
    "\n",
    "### ArrayList/Dynamic resizable list\n",
    "ordered collection"
   ]
  },
  {
   "cell_type": "code",
   "execution_count": null,
   "metadata": {},
   "outputs": [],
   "source": [
    "#######################\n",
    "# When to use Hashtable\n",
    "#######################\n",
    "#Key-value mapping\n",
    "user_info = {\"user1\": {\"name\": \"Alice\", \"age\": 25}, \"user2\": {\"name\": \"Bob\", \"age\": 30}}\n",
    "\n",
    "#Fast lookup\n",
    "dictionary = {\"apple\": \"a fruit\", \"banana\": \"a fruit\", \"carrot\": \"a vegetable\"}\n",
    "if \"banana\" in dictionary:\n",
    "    print(dictionary[\"banana\"])  # Output: a fruit\n",
    "\n",
    "##################\n",
    "# When to use List\n",
    "##################\n",
    "#Ordered collection\n",
    "task_list = [\"Task 1\", \"Task 2\", \"Task 3\"]\n",
    "\n",
    "#Indexed access\n",
    "fruits = [\"apple\", \"banana\", \"orange\"]\n",
    "print(fruits[1])  # Output: banana\n",
    "\n",
    "#Dynamic resizing\n",
    "numbers = []\n",
    "numbers.append(1)\n",
    "numbers.append(2)\n",
    "numbers.append(3)"
   ]
  },
  {
   "cell_type": "code",
   "execution_count": 48,
   "metadata": {},
   "outputs": [
    {
     "name": "stdout",
     "output_type": "stream",
     "text": [
      "{'key1': 'value1', 'key2': 'value2'}\n",
      "value1\n",
      "value2\n",
      "{}\n",
      "value2\n"
     ]
    }
   ],
   "source": [
    "#Dictionary\n",
    "\n",
    "#Insertion\n",
    "my_dict = {}  # An empty dictionary\n",
    "my_dict[\"key1\"] = \"value1\"  # Insert using assignment operator\n",
    "my_dict.update({\"key2\": \"value2\"})  # Insert using update method\n",
    "print(my_dict)  # Output: {'key1': 'value1', 'key2': 'value2'}\n",
    "\n",
    "#Retrieval\n",
    "my_dict = {\"key1\": \"value1\", \"key2\": \"value2\"}\n",
    "value1 = my_dict[\"key1\"]  # Retrieve using square bracket notation\n",
    "value2 = my_dict.get(\"key2\")  # Retrieve using get() method\n",
    "print(value1)  # Output: 'value1'\n",
    "print(value2)  # Output: 'value2'\n",
    "\n",
    "\n",
    "#Deletion\n",
    "my_dict = {\"key1\": \"value1\", \"key2\": \"value2\"}\n",
    "del my_dict[\"key1\"]  # Delete using del keyword\n",
    "value = my_dict.pop(\"key2\")  # Delete using pop() method\n",
    "print(my_dict)  # Output: {}\n",
    "print(value)  # Output: 'value2'"
   ]
  },
  {
   "attachments": {},
   "cell_type": "markdown",
   "metadata": {},
   "source": [
    "# Practice"
   ]
  },
  {
   "attachments": {},
   "cell_type": "markdown",
   "metadata": {},
   "source": [
    "#\n",
    "Slicing, Reduce, Filter"
   ]
  },
  {
   "attachments": {},
   "cell_type": "markdown",
   "metadata": {},
   "source": [
    "### Reverse to make equal\n",
    "Given two arrays A and B of length N, determine if there is a way to make A equal to B by reversing any subarrays from array B any number of times.  \n",
    "Signature  \n",
    "bool areTheyEqual(int[] arr_a, int[] arr_b)  \n",
    "Input  \n",
    "All integers in array are in the range [0, 1,000,000,000].  \n",
    "Output  \n",
    "Return true if B can be made equal to A, return false otherwise.  \n",
    "Example  \n",
    "A = [1, 2, 3, 4]   \n",
    "B = [1, 4, 3, 2]  \n",
    "output = true  \n",
    "After reversing the subarray of B from indices 1 to 3, array B will equal array A.  \n"
   ]
  },
  {
   "cell_type": "code",
   "execution_count": null,
   "metadata": {},
   "outputs": [],
   "source": [
    "\n",
    "import math\n",
    "\n",
    "def are_they_equal(array_a, array_b):\n",
    "  # Write your code here\n",
    "  for i in range(len(arry_b)):\n",
    "    if arry_b == reverseArray(arry_b[i::]):\n",
    "      return True\n",
    "\n",
    "def reverseArray(arry):\n",
    "  left, right=0, len(arry)-1\n",
    "  while left < right:\n",
    "    arry[left], arry[right]=arry[right], arry[left]\n",
    "    left, right=left +1, right-1\n",
    "  \n"
   ]
  },
  {
   "attachments": {},
   "cell_type": "markdown",
   "metadata": {},
   "source": [
    "### 2. Passing Yearbooks\n",
    "There are n students, numbered from 1 to n, each with their own yearbook. They would like to pass their yearbooks around and get them signed by other students.\n",
    "You're given a list of n integers arr[1..n], which is guaranteed to be a permutation of 1..n (in other words, it includes the integers from 1 to n exactly once each, in some order). The meaning of this list is described below.\n",
    "Initially, each student is holding their own yearbook. The students will then repeat the following two steps each minute: Each student i will first sign the yearbook that they're currently holding (which may either belong to themselves or to another student), and then they'll pass it to student arr[i-1]. It's possible that arr[i-1] = i for any given i, in which case student i will pass their yearbook back to themselves. Once a student has received their own yearbook back, they will hold on to it and no longer participate in the passing process.\n",
    "It's guaranteed that, for any possible valid input, each student will eventually receive their own yearbook back and will never end up holding more than one yearbook at a time.\n",
    "You must compute a list of n integers output, whose element at i-1 is equal to the number of signatures that will be present in student i's yearbook once they receive it back.\n",
    "Signature\n",
    "int[] findSignatureCounts(int[] arr)\n",
    "Input\n",
    "n is in the range [1, 100,000].\n",
    "Each value arr[i] is in the range [1, n], and all values in arr[i] are distinct.\n",
    "Output\n",
    "Return a list of n integers output, as described above.\n",
    "Example 1\n",
    "n = 2\n",
    "arr = [2, 1]\n",
    "output = [2, 2]\n",
    "Pass 1:\n",
    "Student 1 signs their own yearbook. Then they pass the book to the student at arr[0], which is Student 2.\n",
    "Student 2 signs their own yearbook. Then they pass the book to the student at arr[1], which is Student 1.\n",
    "Pass 2:\n",
    "Student 1 signs Student 2's yearbook. Then they pass it to the student at arr[0], which is Student 2.\n",
    "Student 2 signs Student 1's yearbook. Then they pass it to the student at arr[1], which is Student 1.\n",
    "Pass 3:\n",
    "Both students now hold their own yearbook, so the process is complete.\n",
    "Each student received 2 signatures.\n",
    "Example 2\n",
    "n = 2\n",
    "arr = [1, 2]\n",
    "output = [1, 1]\n",
    "Pass 1:\n",
    "Student 1 signs their own yearbook. Then they pass the book to the student at arr[0], which is themself, Student 1.\n",
    "Student 2 signs their own yearbook. Then they pass the book to the student at arr[1], which is themself, Student 2.\n",
    "Pass 2:\n",
    "Both students now hold their own yearbook, so the process is complete.\n",
    "Each student received 1 signature."
   ]
  },
  {
   "cell_type": "code",
   "execution_count": null,
   "metadata": {},
   "outputs": [],
   "source": [
    "import math\n",
    "# Add any extra import statements you may need here\n",
    "\n",
    "\n",
    "# Add any helper functions you may need here\n",
    "\n",
    "\n",
    "def findSignatureCounts(arr):\n",
    "  # Write your code here\n",
    "  \n",
    "  \n",
    "\n",
    "\n",
    "\n",
    "\n",
    "\n",
    "\n",
    "\n",
    "\n",
    "\n",
    "# These are the tests we use to determine if the solution is correct.\n",
    "# You can add your own at the bottom.\n",
    "\n",
    "def printInteger(n):\n",
    "  print('[', n, ']', sep='', end='')\n",
    "\n",
    "def printIntegerList(array):\n",
    "  size = len(array)\n",
    "  print('[', end='')\n",
    "  for i in range(size):\n",
    "    if i != 0:\n",
    "      print(', ', end='')\n",
    "    print(array[i], end='')\n",
    "  print(']', end='')\n",
    "\n",
    "test_case_number = 1\n",
    "\n",
    "def check(expected, output):\n",
    "  global test_case_number\n",
    "  expected_size = len(expected)\n",
    "  output_size = len(output)\n",
    "  result = True\n",
    "  if expected_size != output_size:\n",
    "    result = False\n",
    "  for i in range(min(expected_size, output_size)):\n",
    "    result &= (output[i] == expected[i])\n",
    "  rightTick = '\\u2713'\n",
    "  wrongTick = '\\u2717'\n",
    "  if result:\n",
    "    print(rightTick, 'Test #', test_case_number, sep='')\n",
    "  else:\n",
    "    print(wrongTick, 'Test #', test_case_number, ': Expected ', sep='', end='')\n",
    "    printIntegerList(expected)\n",
    "    print(' Your output: ', end='')\n",
    "    printIntegerList(output)\n",
    "    print()\n",
    "  test_case_number += 1\n",
    "\n",
    "if __name__ == \"__main__\":\n",
    "  arr_1 = [2, 1]\n",
    "  expected_1 = [2, 2]\n",
    "  output_1 = findSignatureCounts(arr_1)\n",
    "  check(expected_1, output_1)\n",
    "\n",
    "  arr_2 = [1, 2]\n",
    "  expected_2 = [1, 1]\n",
    "  output_2 = findSignatureCounts(arr_2)\n",
    "  check(expected_2, output_2)\n",
    "\n",
    "\n",
    "  # Add your own test cases here\n",
    "  "
   ]
  },
  {
   "attachments": {},
   "cell_type": "markdown",
   "metadata": {},
   "source": [
    "## 3. Contiguous Subarrays\n",
    "You are given an array arr of N integers. For each index i, you are required to determine the number of contiguous subarrays that fulfill the following conditions:\n",
    "The value at index i must be the maximum element in the contiguous subarrays, and\n",
    "These contiguous subarrays must either start from or end on index i.\n",
    "Signature\n",
    "int[] countSubarrays(int[] arr)\n",
    "Input\n",
    "Array arr is a non-empty list of unique integers that range between 1 to 1,000,000,000\n",
    "Size N is between 1 and 1,000,000\n",
    "Output\n",
    "An array where each index i contains an integer denoting the maximum number of contiguous subarrays of arr[i]\n",
    "Example:\n",
    "arr = [3, 4, 1, 6, 2]\n",
    "output = [1, 3, 1, 5, 1]\n",
    "Explanation:\n",
    "For index 0 - [3] is the only contiguous subarray that starts (or ends) at index 0 with the maximum value in the subarray being 3.\n",
    "For index 1 - [4], [3, 4], [4, 1]\n",
    "For index 2 - [1]\n",
    "For index 3 - [6], [6, 2], [1, 6], [4, 1, 6], [3, 4, 1, 6]\n",
    "For index 4 - [2]\n",
    "So, the answer for the above input is [1, 3, 1, 5, 1]"
   ]
  },
  {
   "cell_type": "code",
   "execution_count": null,
   "metadata": {},
   "outputs": [],
   "source": [
    "import math\n",
    "# Add any extra import statements you may need here\n",
    "\n",
    "\n",
    "# Add any helper functions you may need here\n",
    "\n",
    "\n",
    "def count_subarrays(arr):\n",
    "  # Write your code here\n",
    "  \n",
    "  \n",
    "\n",
    "\n",
    "\n",
    "\n",
    "\n",
    "\n",
    "\n",
    "\n",
    "\n",
    "# These are the tests we use to determine if the solution is correct.\n",
    "# You can add your own at the bottom.\n",
    "\n",
    "def printInteger(n):\n",
    "  print('[', n, ']', sep='', end='')\n",
    "\n",
    "def printIntegerList(array):\n",
    "  size = len(array)\n",
    "  print('[', end='')\n",
    "  for i in range(size):\n",
    "    if i != 0:\n",
    "      print(', ', end='')\n",
    "    print(array[i], end='')\n",
    "  print(']', end='')\n",
    "\n",
    "test_case_number = 1\n",
    "\n",
    "def check(expected, output):\n",
    "  global test_case_number\n",
    "  expected_size = len(expected)\n",
    "  output_size = len(output)\n",
    "  result = True\n",
    "  if expected_size != output_size:\n",
    "    result = False\n",
    "  for i in range(min(expected_size, output_size)):\n",
    "    result &= (output[i] == expected[i])\n",
    "  rightTick = '\\u2713'\n",
    "  wrongTick = '\\u2717'\n",
    "  if result:\n",
    "    print(rightTick, 'Test #', test_case_number, sep='')\n",
    "  else:\n",
    "    print(wrongTick, 'Test #', test_case_number, ': Expected ', sep='', end='')\n",
    "    printIntegerList(expected)\n",
    "    print(' Your output: ', end='')\n",
    "    printIntegerList(output)\n",
    "    print()\n",
    "  test_case_number += 1\n",
    "\n",
    "if __name__ == \"__main__\":\n",
    "  test_1 = [3, 4, 1, 6, 2]\n",
    "  expected_1 = [1, 3, 1, 5, 1]\n",
    "  output_1 = count_subarrays(test_1)\n",
    "  check(expected_1, output_1)\n",
    "  \n",
    "  test_2 = [2, 4, 7, 1, 5, 3]\n",
    "  expected_2 = [1, 2, 6, 1, 3, 1]\n",
    "  output_2 = count_subarrays(test_2)\n",
    "  check(expected_2, output_2)\n",
    "\n",
    "  # Add your own test cases here\n",
    "  "
   ]
  }
 ],
 "metadata": {
  "kernelspec": {
   "display_name": "py3p10",
   "language": "python",
   "name": "python3"
  },
  "language_info": {
   "codemirror_mode": {
    "name": "ipython",
    "version": 3
   },
   "file_extension": ".py",
   "mimetype": "text/x-python",
   "name": "python",
   "nbconvert_exporter": "python",
   "pygments_lexer": "ipython3",
   "version": "3.10.4"
  },
  "orig_nbformat": 4
 },
 "nbformat": 4,
 "nbformat_minor": 2
}

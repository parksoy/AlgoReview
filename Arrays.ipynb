{
 "cells": [
  {
   "attachments": {},
   "cell_type": "markdown",
   "metadata": {},
   "source": [
    "# Arrays"
   ]
  },
  {
   "attachments": {},
   "cell_type": "markdown",
   "metadata": {},
   "source": [
    "### Reverse array"
   ]
  },
  {
   "cell_type": "code",
   "execution_count": 17,
   "metadata": {},
   "outputs": [],
   "source": [
    "s=['h','e','l', 'l','0']\n",
    "s.reverse()"
   ]
  },
  {
   "cell_type": "code",
   "execution_count": 18,
   "metadata": {},
   "outputs": [
    {
     "data": {
      "text/plain": [
       "['h', 'e', 'l', 'l', '0']"
      ]
     },
     "execution_count": 18,
     "metadata": {},
     "output_type": "execute_result"
    }
   ],
   "source": [
    "#1. Using Recursion\n",
    "class Solution: #Time O(N), space: O(N)\n",
    "    def reverseString(self, s):\n",
    "        def helper(left,right):\n",
    "            if left < right:\n",
    "                s[left], s[right]=s[right], s[left]\n",
    "                helper(left+1, right-1)\n",
    "        helper(0, len(s)-1)\n",
    "        return s\n",
    "\n",
    "Solution().reverseString(s)\n"
   ]
  },
  {
   "cell_type": "code",
   "execution_count": 19,
   "metadata": {},
   "outputs": [
    {
     "data": {
      "text/plain": [
       "['0', 'l', 'l', 'e', 'h']"
      ]
     },
     "execution_count": 19,
     "metadata": {},
     "output_type": "execute_result"
    }
   ],
   "source": [
    "#Two pointer \n",
    "class Solution: #Time O(N), space: O(1)\n",
    "    def reverseString(self, s):\n",
    "        left,right=0, len(s)-1\n",
    "        while left < right:\n",
    "            s[left], s[right]=s[right], s[left]\n",
    "            left, right=left+1, right-1\n",
    "        return s\n",
    "    \n",
    "Solution().reverseString(s)\n"
   ]
  },
  {
   "attachments": {},
   "cell_type": "markdown",
   "metadata": {},
   "source": [
    "# List operations\n",
    "\n",
    "min(List) , max(List)  \n",
    "List[1][2]  \n",
    "sorted(List)  \n",
    "List.sort()   \n",
    "erged_list = list1 + list2  or list1.extend(list2) "
   ]
  },
  {
   "cell_type": "code",
   "execution_count": null,
   "metadata": {},
   "outputs": [
    {
     "data": {
      "text/plain": [
       "(1, 8)"
      ]
     },
     "metadata": {},
     "output_type": "display_data"
    }
   ],
   "source": [
    "#min max, \n",
    "\n",
    "my_list=[1,5,2,8]\n",
    "\n",
    "min(my_list), max(my_list)"
   ]
  },
  {
   "cell_type": "code",
   "execution_count": 24,
   "metadata": {},
   "outputs": [
    {
     "data": {
      "text/plain": [
       "6"
      ]
     },
     "execution_count": 24,
     "metadata": {},
     "output_type": "execute_result"
    }
   ],
   "source": [
    "#slicing\n",
    "my_list = [[1, 2, 3], [4, 5, 6], [7, 8, 9]]\n",
    "my_list[1][2]"
   ]
  },
  {
   "cell_type": "code",
   "execution_count": 30,
   "metadata": {},
   "outputs": [
    {
     "data": {
      "text/plain": [
       "[[1, 2, 3], [4, 5, 6], [7, 8, 9]]"
      ]
     },
     "execution_count": 30,
     "metadata": {},
     "output_type": "execute_result"
    }
   ],
   "source": [
    "#sort\n",
    "sorted(my_list)"
   ]
  },
  {
   "cell_type": "code",
   "execution_count": 31,
   "metadata": {},
   "outputs": [],
   "source": [
    "my_list.sort()"
   ]
  },
  {
   "cell_type": "code",
   "execution_count": 37,
   "metadata": {},
   "outputs": [
    {
     "data": {
      "text/plain": [
       "[0, 1, 2]"
      ]
     },
     "execution_count": 37,
     "metadata": {},
     "output_type": "execute_result"
    }
   ],
   "source": [
    "# List comprehension\n",
    "[x for x in range(3)]"
   ]
  },
  {
   "cell_type": "code",
   "execution_count": 35,
   "metadata": {},
   "outputs": [
    {
     "data": {
      "text/plain": [
       "[4]"
      ]
     },
     "execution_count": 35,
     "metadata": {},
     "output_type": "execute_result"
    }
   ],
   "source": [
    "\n",
    "[x**2 for x in range (1,4) if x%2==0]"
   ]
  },
  {
   "cell_type": "code",
   "execution_count": 36,
   "metadata": {},
   "outputs": [
    {
     "data": {
      "text/plain": [
       "[(1, 4), (1, 5), (2, 4), (2, 5)]"
      ]
     },
     "execution_count": 36,
     "metadata": {},
     "output_type": "execute_result"
    }
   ],
   "source": [
    "[(x,y) for x in range(1,3) for y in range(4,6)]"
   ]
  },
  {
   "cell_type": "code",
   "execution_count": 38,
   "metadata": {},
   "outputs": [
    {
     "data": {
      "text/plain": [
       "9"
      ]
     },
     "execution_count": 38,
     "metadata": {},
     "output_type": "execute_result"
    }
   ],
   "source": [
    "#Lambda functions\n",
    "square=lambda x:x**2\n",
    "square(3)"
   ]
  },
  {
   "cell_type": "code",
   "execution_count": 41,
   "metadata": {},
   "outputs": [
    {
     "data": {
      "text/plain": [
       "[2, 4, 6, 8, 10]"
      ]
     },
     "execution_count": 41,
     "metadata": {},
     "output_type": "execute_result"
    }
   ],
   "source": [
    "#map\n",
    "my_list=[1,2,3,4,5]\n",
    "list(map(lambda x:x*2, my_list))"
   ]
  },
  {
   "cell_type": "code",
   "execution_count": 42,
   "metadata": {},
   "outputs": [
    {
     "data": {
      "text/plain": [
       "15"
      ]
     },
     "execution_count": 42,
     "metadata": {},
     "output_type": "execute_result"
    }
   ],
   "source": [
    "#reduce\n",
    "\n",
    "from functools import reduce\n",
    "my_list=[1,2,3,4,5]\n",
    "reduce(lambda x,y: x+y, my_list)"
   ]
  },
  {
   "cell_type": "code",
   "execution_count": 43,
   "metadata": {},
   "outputs": [
    {
     "data": {
      "text/plain": [
       "[2, 4]"
      ]
     },
     "execution_count": 43,
     "metadata": {},
     "output_type": "execute_result"
    }
   ],
   "source": [
    "#filter\n",
    "\n",
    "my_list=[1,2,3,4,5]\n",
    "list(filter(lambda x:x%2==0, my_list))"
   ]
  },
  {
   "cell_type": "code",
   "execution_count": 46,
   "metadata": {},
   "outputs": [
    {
     "data": {
      "text/plain": [
       "[5, 1, 3, 2, 4]"
      ]
     },
     "execution_count": 46,
     "metadata": {},
     "output_type": "execute_result"
    }
   ],
   "source": [
    "#sorted\n",
    "my_list=[5,2,4,1,3]\n",
    "sorted(my_list, key=lambda x:x%2==0)"
   ]
  },
  {
   "attachments": {},
   "cell_type": "markdown",
   "metadata": {},
   "source": [
    "# Numpy operation\n",
    "\n",
    "np.min(array), mnp.max(array)   \n",
    "array.sort()   \n",
    "np.sort(array)   \n",
    "np.partition(arry,2)  \n",
    "np.concatenate((array1, array2)), np.vstack((array1, array2)) , np.hstack((array1, array2))"
   ]
  },
  {
   "cell_type": "code",
   "execution_count": 29,
   "metadata": {},
   "outputs": [
    {
     "name": "stdout",
     "output_type": "stream",
     "text": [
      "[[1 2 3]\n",
      " [4 5 6]\n",
      " [7 8 9]]\n"
     ]
    },
    {
     "data": {
      "text/plain": [
       "6"
      ]
     },
     "execution_count": 29,
     "metadata": {},
     "output_type": "execute_result"
    }
   ],
   "source": [
    "import numpy as np\n",
    "\n",
    "#slicing\n",
    "my_arry=np.array(my_list)\n",
    "print(my_arry)\n",
    "my_arry[1,2]"
   ]
  },
  {
   "cell_type": "code",
   "execution_count": 7,
   "metadata": {},
   "outputs": [
    {
     "data": {
      "text/plain": [
       "(1, 8)"
      ]
     },
     "execution_count": 7,
     "metadata": {},
     "output_type": "execute_result"
    }
   ],
   "source": [
    "#min, max\n",
    "my_arry=np.array([my_list])\n",
    "np.min(my_arry), np.max(my_arry)"
   ]
  },
  {
   "cell_type": "code",
   "execution_count": 32,
   "metadata": {},
   "outputs": [],
   "source": [
    "#Sort \n",
    "my_array = np.array([4, 2, 7, 1, 5])\n",
    "my_array.sort()"
   ]
  },
  {
   "cell_type": "code",
   "execution_count": 33,
   "metadata": {},
   "outputs": [
    {
     "data": {
      "text/plain": [
       "array([1, 2, 4, 5, 7])"
      ]
     },
     "execution_count": 33,
     "metadata": {},
     "output_type": "execute_result"
    }
   ],
   "source": [
    "np.sort(my_array)"
   ]
  },
  {
   "attachments": {},
   "cell_type": "markdown",
   "metadata": {},
   "source": [
    "## Dictionary/Hash table vs. List/ArrayList: Very important!!\n",
    "\n",
    "### Hashtable\n",
    "key-value, not sorted.\n",
    "Hash function to map key to index. O(1) time complexity, Fast access to elements based on keys. \n",
    "\n",
    "\n",
    "### ArrayList/Dynamic resizable list\n",
    "ordered collection"
   ]
  },
  {
   "cell_type": "code",
   "execution_count": null,
   "metadata": {},
   "outputs": [],
   "source": [
    "#######################\n",
    "# When to use Hashtable\n",
    "#######################\n",
    "#Key-value mapping\n",
    "user_info = {\"user1\": {\"name\": \"Alice\", \"age\": 25}, \"user2\": {\"name\": \"Bob\", \"age\": 30}}\n",
    "\n",
    "#Fast lookup\n",
    "dictionary = {\"apple\": \"a fruit\", \"banana\": \"a fruit\", \"carrot\": \"a vegetable\"}\n",
    "if \"banana\" in dictionary:\n",
    "    print(dictionary[\"banana\"])  # Output: a fruit\n",
    "\n",
    "##################\n",
    "# When to use List\n",
    "##################\n",
    "#Ordered collection\n",
    "task_list = [\"Task 1\", \"Task 2\", \"Task 3\"]\n",
    "\n",
    "#Indexed access\n",
    "fruits = [\"apple\", \"banana\", \"orange\"]\n",
    "print(fruits[1])  # Output: banana\n",
    "\n",
    "#Dynamic resizing\n",
    "numbers = []\n",
    "numbers.append(1)\n",
    "numbers.append(2)\n",
    "numbers.append(3)"
   ]
  },
  {
   "cell_type": "code",
   "execution_count": 48,
   "metadata": {},
   "outputs": [
    {
     "name": "stdout",
     "output_type": "stream",
     "text": [
      "{'key1': 'value1', 'key2': 'value2'}\n",
      "value1\n",
      "value2\n",
      "{}\n",
      "value2\n"
     ]
    }
   ],
   "source": [
    "#Dictionary\n",
    "\n",
    "#Insertion\n",
    "my_dict = {}  # An empty dictionary\n",
    "my_dict[\"key1\"] = \"value1\"  # Insert using assignment operator\n",
    "my_dict.update({\"key2\": \"value2\"})  # Insert using update method\n",
    "print(my_dict)  # Output: {'key1': 'value1', 'key2': 'value2'}\n",
    "\n",
    "#Retrieval\n",
    "my_dict = {\"key1\": \"value1\", \"key2\": \"value2\"}\n",
    "value1 = my_dict[\"key1\"]  # Retrieve using square bracket notation\n",
    "value2 = my_dict.get(\"key2\")  # Retrieve using get() method\n",
    "print(value1)  # Output: 'value1'\n",
    "print(value2)  # Output: 'value2'\n",
    "\n",
    "\n",
    "#Deletion\n",
    "my_dict = {\"key1\": \"value1\", \"key2\": \"value2\"}\n",
    "del my_dict[\"key1\"]  # Delete using del keyword\n",
    "value = my_dict.pop(\"key2\")  # Delete using pop() method\n",
    "print(my_dict)  # Output: {}\n",
    "print(value)  # Output: 'value2'"
   ]
  },
  {
   "attachments": {},
   "cell_type": "markdown",
   "metadata": {},
   "source": [
    "# Practice"
   ]
  },
  {
   "attachments": {},
   "cell_type": "markdown",
   "metadata": {},
   "source": [
    "#\n",
    "Slicing, Reduce, Filter"
   ]
  },
  {
   "attachments": {},
   "cell_type": "markdown",
   "metadata": {},
   "source": [
    "### Reverse to make equal\n",
    "Given two arrays A and B of length N, determine if there is a way to make A equal to B by reversing any subarrays from array B any number of times.  \n",
    "Signature  \n",
    "bool areTheyEqual(int[] arr_a, int[] arr_b)  \n",
    "Input  \n",
    "All integers in array are in the range [0, 1,000,000,000].  \n",
    "Output  \n",
    "Return true if B can be made equal to A, return false otherwise.  \n",
    "Example  \n",
    "A = [1, 2, 3, 4]   \n",
    "B = [1, 4, 3, 2]  \n",
    "output = true  \n",
    "After reversing the subarray of B from indices 1 to 3, array B will equal array A.  \n"
   ]
  },
  {
   "cell_type": "code",
   "execution_count": null,
   "metadata": {},
   "outputs": [],
   "source": [
    "\n",
    "import math\n",
    "\n",
    "def are_they_equal(array_a, array_b):\n",
    "  # Write your code here\n",
    "  for i in range(len(arry_b)):\n",
    "    if arry_b == reverseArray(arry_b[i::]):\n",
    "      return True\n",
    "\n",
    "def reverseArray(arry):\n",
    "  left, right=0, len(arry)-1\n",
    "  while left < right:\n",
    "    arry[left], arry[right]=arry[right], arry[left]\n",
    "    left, right=left +1, right-1\n",
    "  \n"
   ]
  },
  {
   "attachments": {},
   "cell_type": "markdown",
   "metadata": {},
   "source": [
    "### 2. Passing Yearbooks\n",
    "There are n students, numbered from 1 to n, each with their own yearbook. They would like to pass their yearbooks around and get them signed by other students.\n",
    "You're given a list of n integers arr[1..n], which is guaranteed to be a permutation of 1..n (in other words, it includes the integers from 1 to n exactly once each, in some order). The meaning of this list is described below.\n",
    "Initially, each student is holding their own yearbook. The students will then repeat the following two steps each minute: Each student i will first sign the yearbook that they're currently holding (which may either belong to themselves or to another student), and then they'll pass it to student arr[i-1]. It's possible that arr[i-1] = i for any given i, in which case student i will pass their yearbook back to themselves. Once a student has received their own yearbook back, they will hold on to it and no longer participate in the passing process.\n",
    "It's guaranteed that, for any possible valid input, each student will eventually receive their own yearbook back and will never end up holding more than one yearbook at a time.\n",
    "You must compute a list of n integers output, whose element at i-1 is equal to the number of signatures that will be present in student i's yearbook once they receive it back.\n",
    "Signature\n",
    "int[] findSignatureCounts(int[] arr)\n",
    "Input\n",
    "n is in the range [1, 100,000].\n",
    "Each value arr[i] is in the range [1, n], and all values in arr[i] are distinct.\n",
    "Output\n",
    "Return a list of n integers output, as described above.\n",
    "Example 1\n",
    "n = 2\n",
    "arr = [2, 1]\n",
    "output = [2, 2]\n",
    "Pass 1:\n",
    "Student 1 signs their own yearbook. Then they pass the book to the student at arr[0], which is Student 2.\n",
    "Student 2 signs their own yearbook. Then they pass the book to the student at arr[1], which is Student 1.\n",
    "Pass 2:\n",
    "Student 1 signs Student 2's yearbook. Then they pass it to the student at arr[0], which is Student 2.\n",
    "Student 2 signs Student 1's yearbook. Then they pass it to the student at arr[1], which is Student 1.\n",
    "Pass 3:\n",
    "Both students now hold their own yearbook, so the process is complete.\n",
    "Each student received 2 signatures.\n",
    "Example 2\n",
    "n = 2\n",
    "arr = [1, 2]\n",
    "output = [1, 1]\n",
    "Pass 1:\n",
    "Student 1 signs their own yearbook. Then they pass the book to the student at arr[0], which is themself, Student 1.\n",
    "Student 2 signs their own yearbook. Then they pass the book to the student at arr[1], which is themself, Student 2.\n",
    "Pass 2:\n",
    "Both students now hold their own yearbook, so the process is complete.\n",
    "Each student received 1 signature."
   ]
  },
  {
   "cell_type": "code",
   "execution_count": null,
   "metadata": {},
   "outputs": [],
   "source": [
    "import math\n",
    "# Add any extra import statements you may need here\n",
    "\n",
    "\n",
    "# Add any helper functions you may need here\n",
    "\n",
    "\n",
    "def findSignatureCounts(arr):\n",
    "  # Write your code here\n",
    "  \n",
    "  \n",
    "\n",
    "\n",
    "\n",
    "\n",
    "\n",
    "\n",
    "\n",
    "\n",
    "\n",
    "# These are the tests we use to determine if the solution is correct.\n",
    "# You can add your own at the bottom.\n",
    "\n",
    "def printInteger(n):\n",
    "  print('[', n, ']', sep='', end='')\n",
    "\n",
    "def printIntegerList(array):\n",
    "  size = len(array)\n",
    "  print('[', end='')\n",
    "  for i in range(size):\n",
    "    if i != 0:\n",
    "      print(', ', end='')\n",
    "    print(array[i], end='')\n",
    "  print(']', end='')\n",
    "\n",
    "test_case_number = 1\n",
    "\n",
    "def check(expected, output):\n",
    "  global test_case_number\n",
    "  expected_size = len(expected)\n",
    "  output_size = len(output)\n",
    "  result = True\n",
    "  if expected_size != output_size:\n",
    "    result = False\n",
    "  for i in range(min(expected_size, output_size)):\n",
    "    result &= (output[i] == expected[i])\n",
    "  rightTick = '\\u2713'\n",
    "  wrongTick = '\\u2717'\n",
    "  if result:\n",
    "    print(rightTick, 'Test #', test_case_number, sep='')\n",
    "  else:\n",
    "    print(wrongTick, 'Test #', test_case_number, ': Expected ', sep='', end='')\n",
    "    printIntegerList(expected)\n",
    "    print(' Your output: ', end='')\n",
    "    printIntegerList(output)\n",
    "    print()\n",
    "  test_case_number += 1\n",
    "\n",
    "if __name__ == \"__main__\":\n",
    "  arr_1 = [2, 1]\n",
    "  expected_1 = [2, 2]\n",
    "  output_1 = findSignatureCounts(arr_1)\n",
    "  check(expected_1, output_1)\n",
    "\n",
    "  arr_2 = [1, 2]\n",
    "  expected_2 = [1, 1]\n",
    "  output_2 = findSignatureCounts(arr_2)\n",
    "  check(expected_2, output_2)\n",
    "\n",
    "\n",
    "  # Add your own test cases here\n",
    "  "
   ]
  },
  {
   "attachments": {},
   "cell_type": "markdown",
   "metadata": {},
   "source": [
    "## 3. Contiguous Subarrays\n",
    "You are given an array arr of N integers. For each index i, you are required to determine the number of contiguous subarrays that fulfill the following conditions:\n",
    "The value at index i must be the maximum element in the contiguous subarrays, and\n",
    "These contiguous subarrays must either start from or end on index i.\n",
    "Signature\n",
    "int[] countSubarrays(int[] arr)\n",
    "Input\n",
    "Array arr is a non-empty list of unique integers that range between 1 to 1,000,000,000\n",
    "Size N is between 1 and 1,000,000\n",
    "Output\n",
    "An array where each index i contains an integer denoting the maximum number of contiguous subarrays of arr[i]\n",
    "Example:\n",
    "arr = [3, 4, 1, 6, 2]\n",
    "output = [1, 3, 1, 5, 1]\n",
    "Explanation:\n",
    "For index 0 - [3] is the only contiguous subarray that starts (or ends) at index 0 with the maximum value in the subarray being 3.\n",
    "For index 1 - [4], [3, 4], [4, 1]\n",
    "For index 2 - [1]\n",
    "For index 3 - [6], [6, 2], [1, 6], [4, 1, 6], [3, 4, 1, 6]\n",
    "For index 4 - [2]\n",
    "So, the answer for the above input is [1, 3, 1, 5, 1]"
   ]
  },
  {
   "cell_type": "code",
   "execution_count": null,
   "metadata": {},
   "outputs": [],
   "source": [
    "import math\n",
    "# Add any extra import statements you may need here\n",
    "\n",
    "\n",
    "# Add any helper functions you may need here\n",
    "\n",
    "\n",
    "def count_subarrays(arr):\n",
    "  # Write your code here\n",
    "  \n",
    "   \n",
    "\n",
    "\n",
    "\n",
    "\n",
    "# These are the tests we use to determine if the solution is correct.\n",
    "# You can add your own at the bottom.\n",
    "\n",
    "def printInteger(n):\n",
    "  print('[', n, ']', sep='', end='')\n",
    "\n",
    "def printIntegerList(array):\n",
    "  size = len(array)\n",
    "  print('[', end='')\n",
    "  for i in range(size):\n",
    "    if i != 0:\n",
    "      print(', ', end='')\n",
    "    print(array[i], end='')\n",
    "  print(']', end='')\n",
    "\n",
    "test_case_number = 1\n",
    "\n",
    "def check(expected, output):\n",
    "  global test_case_number\n",
    "  expected_size = len(expected)\n",
    "  output_size = len(output)\n",
    "  result = True\n",
    "  if expected_size != output_size:\n",
    "    result = False\n",
    "  for i in range(min(expected_size, output_size)):\n",
    "    result &= (output[i] == expected[i])\n",
    "  rightTick = '\\u2713'\n",
    "  wrongTick = '\\u2717'\n",
    "  if result:\n",
    "    print(rightTick, 'Test #', test_case_number, sep='')\n",
    "  else:\n",
    "    print(wrongTick, 'Test #', test_case_number, ': Expected ', sep='', end='')\n",
    "    printIntegerList(expected)\n",
    "    print(' Your output: ', end='')\n",
    "    printIntegerList(output)\n",
    "    print()\n",
    "  test_case_number += 1\n",
    "\n",
    "if __name__ == \"__main__\":\n",
    "  test_1 = [3, 4, 1, 6, 2]\n",
    "  expected_1 = [1, 3, 1, 5, 1]\n",
    "  output_1 = count_subarrays(test_1)\n",
    "  check(expected_1, output_1)\n",
    "  \n",
    "  test_2 = [2, 4, 7, 1, 5, 3]\n",
    "  expected_2 = [1, 2, 6, 1, 3, 1]\n",
    "  output_2 = count_subarrays(test_2)\n",
    "  check(expected_2, output_2)\n",
    "\n",
    "  # Add your own test cases here\n",
    "  "
   ]
  },
  {
   "attachments": {},
   "cell_type": "markdown",
   "metadata": {},
   "source": [
    "# Leet code\n",
    "\n",
    "## Two pointers"
   ]
  },
  {
   "cell_type": "code",
   "execution_count": 1,
   "metadata": {},
   "outputs": [
    {
     "data": {
      "text/plain": [
       "True"
      ]
     },
     "execution_count": 1,
     "metadata": {},
     "output_type": "execute_result"
    }
   ],
   "source": [
    "#Example 1: Given a string s, return true if it is a palindrome, false otherwise.\n",
    "#A string is a palindrome if it reads the same forward as backward. That means, \n",
    "#after reversing it, it is still the same string. For example: \"abcdcba\", or \"racecar\".\n",
    "\n",
    "def isPalindrome(s:str)-> bool:\n",
    "    left=0\n",
    "    right=len(s)-1\n",
    "    while left < right:\n",
    "        if s[left] != s[right]:\n",
    "            return False\n",
    "        left, right=left+1, right-1\n",
    "    return True\n",
    "\n",
    "isPalindrome(\"racecar\")"
   ]
  },
  {
   "cell_type": "code",
   "execution_count": 1,
   "metadata": {},
   "outputs": [
    {
     "data": {
      "text/plain": [
       "True"
      ]
     },
     "execution_count": 1,
     "metadata": {},
     "output_type": "execute_result"
    }
   ],
   "source": [
    "#Example 2: Given a sorted array of unique integers and a target integer, \n",
    "#return true if there exists a pair of numbers that sum to target, false otherwise. \n",
    "#This problem is similar to Two Sum. For example, given \n",
    "#nums = [1, 2, 4, 6, 8, 9, 14, 15] and target = 13, return true because 4 + 9 = 13.\n",
    "\n",
    "def isSumToTarget(nums:list[int], target:int)->bool:\n",
    "    left =0\n",
    "    right=len(nums)-1\n",
    "\n",
    "    while left < right:\n",
    "        currentSum=nums[left]+nums[right]\n",
    "        if currentSum == target:\n",
    "            return True\n",
    "        elif currentSum > target:\n",
    "            right -=1\n",
    "        else:\n",
    "            left +=1\n",
    "    \n",
    "    return False\n",
    "\n",
    "nums=[1, 2, 4, 6, 8, 9, 14, 15]\n",
    "target=13\n",
    "isSumToTarget(nums, target)\n"
   ]
  },
  {
   "cell_type": "code",
   "execution_count": 2,
   "metadata": {},
   "outputs": [
    {
     "data": {
      "text/plain": [
       "[1, 3, 4, 5, 6, 7, 20]"
      ]
     },
     "execution_count": 2,
     "metadata": {},
     "output_type": "execute_result"
    }
   ],
   "source": [
    "#Example 3: Given two sorted integer arrays arr1 and arr2, \n",
    "#return a new array that combines both of them and is also sorted.\n",
    "\n",
    "arr_1= [1,4,7,20]\n",
    "arr_2=[3,5,6]\n",
    "ans_lst=[]\n",
    "\n",
    "def combine_twoarrays(arr_1:list[int], arr_2:list[int])-> list[int]:\n",
    "    i,j=0,0\n",
    "    while i < len(arr_1) and j < len(arr_2):\n",
    "        if arr_1[i] < arr_2[j]:\n",
    "            ans_lst.append(arr_1[i])\n",
    "            i +=1\n",
    "        else:\n",
    "            ans_lst.append(arr_2[j])\n",
    "            j +=1\n",
    "\n",
    "    while i < len(arr_1):\n",
    "        ans_lst.append(arr_1[i])\n",
    "        i +=1\n",
    "\n",
    "    while j < len(arr_2):\n",
    "        ans_lst.append(arr_2[j])\n",
    "        j +=1\n",
    "\n",
    "    return ans_lst\n",
    "\n",
    "combine_twoarrays(arr_1, arr_2)"
   ]
  },
  {
   "cell_type": "code",
   "execution_count": 3,
   "metadata": {},
   "outputs": [
    {
     "data": {
      "text/plain": [
       "True"
      ]
     },
     "execution_count": 3,
     "metadata": {},
     "output_type": "execute_result"
    }
   ],
   "source": [
    "# Given two strings s and t, return true if s is a subsequence of t, or false otherwise.\n",
    "# A subsequence of a string is a sequence of characters that can be obtained by \n",
    "# deleting some (or none) of the characters from the original string, while maintaining\n",
    "# the relative order of the remaining characters. \n",
    "# For example, \"ace\" is a subsequence of \"abcde\" while \"aec\" is not.\n",
    "\n",
    "def isSubsequence (s:str, t:str)->bool:\n",
    "    i,j=0,0\n",
    "    while i <len(s) and j<len(t):\n",
    "        if s[i]==t[j]:\n",
    "            i +=1\n",
    "        j +=1\n",
    "    return i==len(s)\n",
    "\n",
    "s=\"abc\"\n",
    "t=\"ahbgdc\"\n",
    "isSubsequence(s,t)"
   ]
  },
  {
   "cell_type": "code",
   "execution_count": 14,
   "metadata": {},
   "outputs": [
    {
     "name": "stdout",
     "output_type": "stream",
     "text": [
      "['o', 'l', 'l', 'e', 'h']\n",
      "['h', 'e', 'l', 'l', 'o']\n"
     ]
    }
   ],
   "source": [
    "# reverse String\n",
    "#Write a function that reverses a string. The input string is given as an array of \n",
    "#characters s.You must do this by modifying the input array in-place with O(1) extra memory.\n",
    "\n",
    "def reverseString(s:list[str], left:int, right:int)->None:\n",
    "    while left < right:\n",
    "        s[left], s[right]=s[right], s[left]\n",
    "        left, right=left+1, right-1\n",
    "    return \n",
    "\n",
    "def reverseString_recursively(s:list[str], left:int, right:int)->list[str]:\n",
    "    if left < right:\n",
    "        s[left], s[right]=s[right], s[left]\n",
    "        left, right=left+1, right-1\n",
    "        reverseString_recursively(s, left, right)\n",
    "    return \n",
    "    \n",
    "\n",
    "s = [\"h\",\"e\",\"l\",\"l\",\"o\"]\n",
    "reverseString(s, left=0, right=len(s)-1)\n",
    "print(s)\n",
    "reverseString_recursively(s, 0, len(s)-1)\n",
    "print(s)"
   ]
  },
  {
   "cell_type": "code",
   "execution_count": 11,
   "metadata": {},
   "outputs": [
    {
     "name": "stdout",
     "output_type": "stream",
     "text": [
      "2.87 µs ± 39.6 ns per loop (mean ± std. dev. of 7 runs, 100,000 loops each)\n",
      "2.47 µs ± 18.2 ns per loop (mean ± std. dev. of 7 runs, 100,000 loops each)\n",
      "3.61 µs ± 16.8 ns per loop (mean ± std. dev. of 7 runs, 100,000 loops each)\n"
     ]
    }
   ],
   "source": [
    "#Given an integer array nums sorted in non-decreasing order, \n",
    "#return an array of the squares of each number sorted in non-decreasing order.\n",
    "\n",
    "nums = [-4,-1,0,3,10]\n",
    "\n",
    "def square1(nums):\n",
    "    sortedlist=[]\n",
    "    for i in range(len(nums)):\n",
    "        sortedlist.append(nums[i]**2) #squre is O(n)\n",
    "    return sorted(sortedlist) #sorting is Timsort, O(n)\n",
    "\n",
    "#Time Complexity: O(Nlog⁡N), Space complexity : O(N) or O(log⁡N) \n",
    "def square2(nums:list[int])-> list[int]:\n",
    "    squarelst=[x**2 for x in nums]\n",
    "    return sorted(squarelst) # Timsort O(N)\n",
    "\n",
    "#two pointers; time complexity O(n)\n",
    "def square3(nums):\n",
    "\n",
    "    left=0\n",
    "    right=len(nums)-1\n",
    "    result=[0]*len(nums)\n",
    "\n",
    "    for i in range(len(nums)-1, -1, -1):\n",
    "        if abs(nums[left]) < abs(nums[right]):\n",
    "            square=nums[right]\n",
    "            right-=1\n",
    "        else: \n",
    "            square=nums[left]\n",
    "            left+=1\n",
    "        \n",
    "        result[i]=square**2\n",
    "    return result \n",
    "\n",
    " \n",
    "    \n",
    "%timeit square1(nums) # 3.07 µs\n",
    "%timeit square2(nums) # 2.47 µs\n",
    "%timeit square3(nums) # 3.61 µs"
   ]
  },
  {
   "attachments": {},
   "cell_type": "markdown",
   "metadata": {},
   "source": [
    "## Sliding window\n",
    "\n",
    "Find Valid subarray\n",
    "\n",
    "* Find the longest subarray with a sum less than or equal to k  \n",
    "* Find the longest substring that has at most one \"0\"  \n",
    "* Find the number of subarrays that have a product less than k  \n"
   ]
  },
  {
   "cell_type": "code",
   "execution_count": 1,
   "metadata": {},
   "outputs": [
    {
     "data": {
      "text/plain": [
       "4"
      ]
     },
     "execution_count": 1,
     "metadata": {},
     "output_type": "execute_result"
    }
   ],
   "source": [
    "#Example 1: Given an array of positive integers nums and an integer k, \n",
    "#find the length of the longest subarray whose sum is less than or equal to k.\n",
    "\n",
    "def maxSubArrayLen(nums:list[int], k:int)->int:\n",
    "    max_len=0\n",
    "    for i in range(len(nums)):\n",
    "        for j in range(i+1, len(nums)+1):\n",
    "            if sum(nums[i:j]) <= k:\n",
    "                max_len=max(max_len, j-i)\n",
    "    return max_len\n",
    " \n",
    "nums=[1, -1, 5, -2, 3]\n",
    "k=3\n",
    "maxSubArrayLen(nums, k)"
   ]
  },
  {
   "cell_type": "code",
   "execution_count": 14,
   "metadata": {},
   "outputs": [
    {
     "data": {
      "text/plain": [
       "(4, [1, 5])"
      ]
     },
     "execution_count": 14,
     "metadata": {},
     "output_type": "execute_result"
    }
   ],
   "source": [
    "def find_maxlength(nums:list[int], k:int)->list[int, list[int]]:\n",
    "    left=currSum= maxLength=0\n",
    "    for right in range(len(nums)):\n",
    "        currSum +=nums[right]\n",
    "        while currSum > k:\n",
    "            left +=1\n",
    "            currSum -= nums[left]\n",
    "\n",
    "        maxLength=max(maxLength, right-left+1) \n",
    "        substr=nums[left:right+1]\n",
    "\n",
    "    return maxLength, substr\n",
    "\n",
    "k=8\n",
    "nums=[3,1,2,7,4,2,1,1,5]\n",
    "\n",
    "find_maxlength(nums, k)"
   ]
  },
  {
   "cell_type": "code",
   "execution_count": 17,
   "metadata": {},
   "outputs": [
    {
     "data": {
      "text/plain": [
       "5"
      ]
     },
     "execution_count": 17,
     "metadata": {},
     "output_type": "execute_result"
    }
   ],
   "source": [
    "# Example 2: You are given a binary string s (a string containing only \"0\" and \"1\"). \n",
    "# You may choose up to one \"0\" and flip it to a \"1\". What is the length of the longest substring \n",
    "# achievable that contains only \"1\"?\n",
    "# For example, given s = \"1101100111\", the answer is 5. If you perform the flip at index 2, \n",
    "#the string becomes 1111100111.\n",
    "\n",
    "def find_lengthOfOne(s:list[int])->int:\n",
    "    left=currentCount=maxCount=0\n",
    "\n",
    "    for right in range(len(s)):\n",
    "        if s[right]=='0': #flip\n",
    "            currentCount+=1\n",
    "        while currentCount >1:\n",
    "            if s[left] =='0':\n",
    "                currentCount-=1\n",
    "            left +=1\n",
    "        maxCount=max(maxCount, right-left+1)\n",
    "    return maxCount\n",
    "\n",
    "s=\"1101100111\"\n",
    "find_lengthOfOne(s)\n",
    "\n"
   ]
  },
  {
   "attachments": {},
   "cell_type": "markdown",
   "metadata": {},
   "source": [
    "## Prefix sum"
   ]
  },
  {
   "cell_type": "code",
   "execution_count": null,
   "metadata": {},
   "outputs": [],
   "source": [
    "#Example 1: Given an integer array nums, an array queries where queries[i] = [x, y] and \n",
    "#an integer limit, return a boolean array that represents the answer to each query.\n",
    "# A query is true if the sum of the subarray from x to y is less than limit, or false otherwise.\n",
    "#For example, given nums = [1, 6, 3, 2, 7, 2], queries = [[0, 3], [2, 5], [2, 4]], \n",
    "#and limit = 13, the answer is [true, false, true]. For each query, the subarray sums are \n",
    "#[12, 14, 12].\n",
    "\n"
   ]
  },
  {
   "cell_type": "code",
   "execution_count": null,
   "metadata": {},
   "outputs": [],
   "source": [
    "#Example 2: 2270. Number of Ways to Split Array\n",
    "#Given an integer array nums, find the number of ways to split the array into two parts \n",
    "#so that the first section has a sum greater than or equal to the sum of the second section.\n",
    "#The second section should have at least one number.\n",
    "\n"
   ]
  },
  {
   "cell_type": "code",
   "execution_count": null,
   "metadata": {},
   "outputs": [],
   "source": [
    "# "
   ]
  }
 ],
 "metadata": {
  "kernelspec": {
   "display_name": "py3p10",
   "language": "python",
   "name": "python3"
  },
  "language_info": {
   "codemirror_mode": {
    "name": "ipython",
    "version": 3
   },
   "file_extension": ".py",
   "mimetype": "text/x-python",
   "name": "python",
   "nbconvert_exporter": "python",
   "pygments_lexer": "ipython3",
   "version": "3.10.4"
  },
  "orig_nbformat": 4
 },
 "nbformat": 4,
 "nbformat_minor": 2
}

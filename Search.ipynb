{
 "cells": [
  {
   "attachments": {},
   "cell_type": "markdown",
   "metadata": {},
   "source": [
    "# Searching"
   ]
  },
  {
   "attachments": {},
   "cell_type": "markdown",
   "metadata": {},
   "source": [
    "## Binary"
   ]
  },
  {
   "cell_type": "code",
   "execution_count": 3,
   "metadata": {},
   "outputs": [
    {
     "name": "stdout",
     "output_type": "stream",
     "text": [
      "[1, 2, 5, 5, 6, 69, 92]\n",
      "-1\n",
      "0\n",
      "1\n",
      "3\n",
      "3\n",
      "4\n",
      "5\n",
      "6\n",
      "-1\n"
     ]
    }
   ],
   "source": [
    "import math\n",
    "\n",
    "#recursively : Nice and elegant but less efficient. O (Log(n)) time complexity. \n",
    "def binarysearch_helper(target, array, left, right):\n",
    "    if right < left:\n",
    "        return -1\n",
    "    middle = math.floor((left + right) / 2)\n",
    "\n",
    "    if array[middle]==target:\n",
    "        return middle\n",
    "    elif target < array[middle]:\n",
    "        return binarysearch_helper(target, array, left, middle-1)\n",
    "    else: \n",
    "        return binarysearch_helper(target, array, middle+1, right)\n",
    "    \n",
    "\n",
    "def binarysearch(target, array):\n",
    "    return binarysearch_helper(target, array, 0, len(array)-1)\n",
    "\n",
    "\n",
    "array=[1,5,69,2,5,6,92]\n",
    "sorted_array=sorted(array)\n",
    "print(sorted_array)\n",
    "\n",
    "#testing code\n",
    "print(binarysearch(sorted_array[0]-1, sorted_array))\n",
    "\n",
    "for target in sorted_array:\n",
    "    print(binarysearch(target, sorted_array))\n",
    "\n",
    "print(binarysearch(sorted_array[-1]+1, sorted_array))"
   ]
  },
  {
   "cell_type": "code",
   "execution_count": 4,
   "metadata": {},
   "outputs": [
    {
     "name": "stdout",
     "output_type": "stream",
     "text": [
      "[1, 2, 5, 5, 6, 69, 92]\n",
      "-1\n",
      "0\n",
      "1\n",
      "3\n",
      "3\n",
      "4\n",
      "5\n",
      "6\n",
      "-1\n"
     ]
    }
   ],
   "source": [
    "import math\n",
    "\n",
    "#iteratively: Less elegant but more efficient.\n",
    "def binarysearch(target, array):\n",
    "    left=0\n",
    "    right=len(array)-1\n",
    "\n",
    "    while left <= right:\n",
    "        middle=math.floor((left+right)/2)\n",
    "\n",
    "        if array[middle]==target:\n",
    "            return middle\n",
    "        elif array[middle]> target: #search left\n",
    "            right=middle-1\n",
    "        else:\n",
    "            left=middle+1 #search right\n",
    "            \n",
    "    return -1\n",
    "\n",
    "array=[1,5,69,2,5,6,92]\n",
    "sorted_array=sorted(array)\n",
    "print(sorted_array)\n",
    "\n",
    "#testing code\n",
    "print(binarysearch(sorted_array[0]-1, sorted_array))\n",
    "\n",
    "for target in sorted_array:\n",
    "    print(binarysearch(target, sorted_array))\n",
    "\n",
    "print(binarysearch(sorted_array[-1]+1, sorted_array))"
   ]
  },
  {
   "cell_type": "code",
   "execution_count": null,
   "metadata": {},
   "outputs": [],
   "source": []
  }
 ],
 "metadata": {
  "kernelspec": {
   "display_name": "py3p10",
   "language": "python",
   "name": "python3"
  },
  "language_info": {
   "codemirror_mode": {
    "name": "ipython",
    "version": 3
   },
   "file_extension": ".py",
   "mimetype": "text/x-python",
   "name": "python",
   "nbconvert_exporter": "python",
   "pygments_lexer": "ipython3",
   "version": "3.10.4"
  },
  "orig_nbformat": 4
 },
 "nbformat": 4,
 "nbformat_minor": 2
}

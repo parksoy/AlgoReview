{
 "cells": [
  {
   "cell_type": "markdown",
   "metadata": {},
   "source": [
    "# Python Design Pattern"
   ]
  },
  {
   "attachments": {},
   "cell_type": "markdown",
   "metadata": {},
   "source": [
    "### Singleton design pattern\n",
    "\n",
    "which ensures that a class has only one instance and provides a global point of access to that instance. This pattern is useful when you want to ensure that there's a single instance of a class that controls a resource, configuration, or shared state throughout the application.  \n",
    "\n",
    "Certainly! I'll provide an example of the Singleton design pattern, which ensures that a class has only one instance and provides a global point of access to that instance. This pattern is useful when you want to ensure that there's a single instance of a class that controls a resource, configuration, or shared state throughout the application.\n",
    " \n",
    " \n",
    "\n",
    "In this example:\n",
    "\n",
    "- We create a `SingletonDatabase` class that uses the `__new__` method to ensure that only one instance is created. If an instance doesn't already exist, it creates one; otherwise, it returns the existing instance.\n",
    "\n",
    "- The `initialize_database` method initializes the database (simulated as a dictionary in this example).\n",
    "\n",
    "- The `insert_data` method allows inserting data into the database, and the `get_data` method allows retrieving data.\n",
    "\n",
    "- When we create multiple instances of `SingletonDatabase` (`db1` and `db2`), they both reference the same instance. Therefore, any data inserted into one instance is accessible from the other, demonstrating that there's only one instance of the database throughout the application.\n",
    "\n",
    "The Singleton pattern ensures that there's a single point of access to a shared resource or configuration, making it useful in scenarios where you want to control access to a centralized resource to avoid issues related to concurrency, consistency, or resource management. "
   ]
  },
  {
   "cell_type": "code",
   "execution_count": 1,
   "metadata": {},
   "outputs": [
    {
     "name": "stdout",
     "output_type": "stream",
     "text": [
      "{'name': 'Alice', 'age': 25}\n",
      "True\n"
     ]
    }
   ],
   "source": [
    "class SingletonDatabase:\n",
    "    _instance = None\n",
    "\n",
    "    def __new__(cls):\n",
    "        if cls._instance is None:\n",
    "            cls._instance = super(SingletonDatabase, cls).__new__(cls)\n",
    "            cls._instance.initialize_database()\n",
    "        return cls._instance\n",
    "\n",
    "    def initialize_database(self):\n",
    "        self.data = {}  # Simulate a database with a dictionary\n",
    "\n",
    "    def insert_data(self, key, value):\n",
    "        self.data[key] = value\n",
    "\n",
    "    def get_data(self, key):\n",
    "        return self.data.get(key)\n",
    "\n",
    "# Creating multiple instances, but they will all reference the same instance\n",
    "db1 = SingletonDatabase()\n",
    "db2 = SingletonDatabase()\n",
    "\n",
    "# Insert data into the database through one instance\n",
    "db1.insert_data(\"user123\", {\"name\": \"Alice\", \"age\": 25})\n",
    "\n",
    "# Access the data from another instance\n",
    "data = db2.get_data(\"user123\")\n",
    "print(data)  # Output: {'name': 'Alice', 'age': 25}\n",
    "\n",
    "# Both instances are the same\n",
    "print(db1 is db2)  # Output: True\n"
   ]
  },
  {
   "attachments": {},
   "cell_type": "markdown",
   "metadata": {},
   "source": [
    "### Factory Design Pattern\n",
    "\n",
    "Certainly! The Factory design pattern is used to create objects without specifying the exact class of object that will be created. It defines an interface or abstract class for creating objects, and concrete subclasses (factories) implement this interface to produce objects of various types. Here's an example of the Factory pattern:\n",
    "\n",
    " \n",
    "\n",
    "In this example:\n",
    "\n",
    "- We have an abstract class `Animal` representing the products that can be created.\n",
    "\n",
    "- Concrete subclasses `Dog` and `Cat` implement the `Animal` interface.\n",
    "\n",
    "- We define an abstract factory, `AnimalFactory`, with a `create_animal` method that is used to create instances of concrete products.\n",
    "\n",
    "- Concrete factory classes, `DogFactory` and `CatFactory`, implement the `AnimalFactory` interface and provide specific implementations of `create_animal`.\n",
    "\n",
    "- The `get_pet` function is a client code that uses the factory to create and return different types of pets without knowing their concrete classes.\n",
    "\n",
    "- By using the factory pattern, we can create objects (in this case, different types of animals) without explicitly specifying their classes in the client code. This makes it easy to extend and maintain the code when adding new types of animals or products."
   ]
  },
  {
   "cell_type": "code",
   "execution_count": 3,
   "metadata": {},
   "outputs": [
    {
     "name": "stdout",
     "output_type": "stream",
     "text": [
      "Woof!\n",
      "Meow!\n"
     ]
    }
   ],
   "source": [
    "from abc import ABC, abstractmethod\n",
    "\n",
    "# Abstract Product: Animal\n",
    "class Animal(ABC):\n",
    "    @abstractmethod\n",
    "    def speak(self):\n",
    "        pass\n",
    "\n",
    "# Concrete Products: Dog and Cat\n",
    "class Dog(Animal):\n",
    "    def speak(self):\n",
    "        return \"Woof!\"\n",
    "\n",
    "class Cat(Animal):\n",
    "    def speak(self):\n",
    "        return \"Meow!\"\n",
    "\n",
    "# Abstract Factory\n",
    "class AnimalFactory(ABC):\n",
    "    @abstractmethod\n",
    "    def create_animal(self):\n",
    "        pass\n",
    "\n",
    "# Concrete Factories: DogFactory and CatFactory\n",
    "class DogFactory(AnimalFactory):\n",
    "    def create_animal(self):\n",
    "        return Dog()\n",
    "\n",
    "class CatFactory(AnimalFactory):\n",
    "    def create_animal(self):\n",
    "        return Cat()\n",
    "\n",
    "# Client Code\n",
    "def get_pet(factory):\n",
    "    animal = factory.create_animal()\n",
    "    return animal\n",
    "\n",
    "# Create and use different pets without knowing their classes\n",
    "dog_factory = DogFactory()\n",
    "cat_factory = CatFactory()\n",
    "\n",
    "dog = get_pet(dog_factory)\n",
    "cat = get_pet(cat_factory)\n",
    "\n",
    "print(dog.speak())  # Output: Woof!\n",
    "print(cat.speak())  # Output: Meow!"
   ]
  },
  {
   "cell_type": "code",
   "execution_count": null,
   "metadata": {},
   "outputs": [],
   "source": []
  }
 ],
 "metadata": {
  "kernelspec": {
   "display_name": "py3p10",
   "language": "python",
   "name": "python3"
  },
  "language_info": {
   "codemirror_mode": {
    "name": "ipython",
    "version": 3
   },
   "file_extension": ".py",
   "mimetype": "text/x-python",
   "name": "python",
   "nbconvert_exporter": "python",
   "pygments_lexer": "ipython3",
   "version": "3.10.4"
  },
  "orig_nbformat": 4
 },
 "nbformat": 4,
 "nbformat_minor": 2
}

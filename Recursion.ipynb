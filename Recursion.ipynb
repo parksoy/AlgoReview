{
 "cells": [
  {
   "cell_type": "markdown",
   "metadata": {},
   "source": [
    "# Recursion"
   ]
  },
  {
   "cell_type": "code",
   "execution_count": 11,
   "metadata": {},
   "outputs": [
    {
     "name": "stdout",
     "output_type": "stream",
     "text": [
      "n= 3\n",
      "n= 2\n",
      "oneback= 1\n",
      "twoback= 0\n",
      "oneback= 1\n",
      "twoback= 1\n",
      "fn(3)= 2\n"
     ]
    }
   ],
   "source": [
    "def fn(n): \n",
    "    if n <= 1:\n",
    "        return n \n",
    "    print(\"n=\",n)\n",
    "\n",
    "    oneback=fn(n-1)\n",
    "    twoback=fn(n-2)\n",
    "    print(\"oneback=\", oneback), print(\"twoback=\", twoback)\n",
    "    \n",
    "    return oneback+twoback\n",
    "    \n",
    "print(\"fn(3)=\", fn(3))"
   ]
  },
  {
   "attachments": {},
   "cell_type": "markdown",
   "metadata": {},
   "source": [
    "# Fibonachi : Not an efficient way to do when n is large. exponentially time increases. \n",
    "when n is large, iterative or memoization approach is more efficient.  \n",
    "\n",
    "Time complexity O(2^n)\n",
    "Space "
   ]
  },
  {
   "cell_type": "code",
   "execution_count": 8,
   "metadata": {},
   "outputs": [
    {
     "name": "stdout",
     "output_type": "stream",
     "text": [
      "[0, 1, 1]\n"
     ]
    }
   ],
   "source": [
    "def fibonacci(n):\n",
    "    if n <= 0:\n",
    "        return []\n",
    "    elif n == 1:\n",
    "        return [0]\n",
    "    elif n == 2:\n",
    "        return [0, 1]\n",
    "    else:\n",
    "        fib_sequence = [0, 1]\n",
    "        for i in range(2, n):\n",
    "            next_term = fib_sequence[-1] + fib_sequence[-2]\n",
    "            fib_sequence.append(next_term)\n",
    "        return fib_sequence\n",
    "\n",
    "# Example usage:\n",
    "n_terms = 3  # Change this value to generate a different number of Fibonacci terms\n",
    "result = fibonacci(n_terms)\n",
    "print(result)\n"
   ]
  },
  {
   "cell_type": "code",
   "execution_count": 23,
   "metadata": {},
   "outputs": [
    {
     "name": "stdout",
     "output_type": "stream",
     "text": [
      "2.59 µs ± 663 ns per loop (mean ± std. dev. of 7 runs, 100,000 loops each)\n"
     ]
    }
   ],
   "source": [
    "#fibonachi_recursive is slow. \n",
    "\n",
    "def fibonachi_recursive(n):\n",
    "    if n<=0:\n",
    "        return []\n",
    "    elif n==1:\n",
    "        return [0]\n",
    "    elif n==2:\n",
    "        return [0,1]\n",
    "    else: \n",
    "        fiblist=fibonachi_recursive(n-1) \n",
    "        next_term= fiblist[-1]+fiblist[-2]\n",
    "        fiblist.append(next_term)\n",
    "        return fiblist\n",
    "\n",
    "%timeit fibonachi_recursive(5)"
   ]
  },
  {
   "cell_type": "code",
   "execution_count": 24,
   "metadata": {},
   "outputs": [
    {
     "name": "stdout",
     "output_type": "stream",
     "text": [
      "225 ns ± 34.1 ns per loop (mean ± std. dev. of 7 runs, 1,000,000 loops each)\n"
     ]
    }
   ],
   "source": [
    "#memoization is much faster!\n",
    "\n",
    "def fibonachi_memoization(n, memo={}):\n",
    "    if n<=0:\n",
    "        return []\n",
    "    elif n==1:\n",
    "        return [0]\n",
    "    elif n==2:\n",
    "        return [0,1]\n",
    "    \n",
    "    if n not in memo:\n",
    "        fiblist=fibonachi_memoization(n-1, memo)\n",
    "        next_term=fiblist[-1]+fiblist[-2]\n",
    "        fiblist.append(next_term)\n",
    "        memo[n]=fiblist\n",
    "    \n",
    "    return memo[n]\n",
    "\n",
    "%timeit fibonachi_memoization(5)\n",
    "    "
   ]
  },
  {
   "attachments": {},
   "cell_type": "markdown",
   "metadata": {},
   "source": [
    "# Binary search"
   ]
  },
  {
   "attachments": {},
   "cell_type": "markdown",
   "metadata": {},
   "source": [
    "# Factorial (ineffieient)"
   ]
  },
  {
   "cell_type": "markdown",
   "metadata": {},
   "source": []
  },
  {
   "attachments": {},
   "cell_type": "markdown",
   "metadata": {},
   "source": [
    "# LeetCode\n",
    "\n",
    "Recursion shines is when you use it to break down a problem into \"subproblems\", whose solutions can then be combined to solve the original problem."
   ]
  },
  {
   "cell_type": "code",
   "execution_count": 1,
   "metadata": {},
   "outputs": [
    {
     "name": "stdout",
     "output_type": "stream",
     "text": [
      "3\n",
      "End of call where i=3\n"
     ]
    }
   ],
   "source": [
    "def fn(i):\n",
    "    if i > 3:\n",
    "        return  \n",
    "    \n",
    "    print(i)\n",
    "    fn(i+1)\n",
    "    print(f\"End of call where i={i}\")\n",
    "\n",
    "    return  \n",
    "\n",
    "fn(3)"
   ]
  },
  {
   "cell_type": "code",
   "execution_count": null,
   "metadata": {},
   "outputs": [],
   "source": []
  },
  {
   "cell_type": "code",
   "execution_count": null,
   "metadata": {},
   "outputs": [],
   "source": []
  }
 ],
 "metadata": {
  "kernelspec": {
   "display_name": "py3p10",
   "language": "python",
   "name": "python3"
  },
  "language_info": {
   "codemirror_mode": {
    "name": "ipython",
    "version": 3
   },
   "file_extension": ".py",
   "mimetype": "text/x-python",
   "name": "python",
   "nbconvert_exporter": "python",
   "pygments_lexer": "ipython3",
   "version": "3.10.4"
  },
  "orig_nbformat": 4
 },
 "nbformat": 4,
 "nbformat_minor": 2
}

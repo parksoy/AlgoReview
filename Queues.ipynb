{
 "cells": [
  {
   "attachments": {},
   "cell_type": "markdown",
   "metadata": {},
   "source": [
    "# Queue\n",
    "\n",
    "FIFO"
   ]
  },
  {
   "cell_type": "code",
   "execution_count": 3,
   "metadata": {},
   "outputs": [
    {
     "name": "stdout",
     "output_type": "stream",
     "text": [
      "Front:1\n",
      "Rear:5\n",
      "Queue:\n",
      "1\n",
      "2\n",
      "3\n",
      "4\n",
      "5\n",
      "Dequeue: 1\n",
      "Front:2\n",
      "Rear:5\n",
      "Queue:\n",
      "2\n",
      "3\n",
      "4\n",
      "5\n"
     ]
    }
   ],
   "source": [
    "class Node:\n",
    "    def __init__(self, value):\n",
    "        self.value = value\n",
    "        self.next = None\n",
    "\n",
    "class Queue:\n",
    "    def __init__(self):\n",
    "        self.front = None\n",
    "        self.rear = None\n",
    "        self.count = 0\n",
    "\n",
    "    def enqueue(self, value):\n",
    "        node = Node(value)\n",
    "        if self.front is None:\n",
    "            self.front = node\n",
    "            self.rear = node\n",
    "            self.count += 1\n",
    "            return\n",
    "        self.rear.next = node\n",
    "        self.rear = node\n",
    "        self.count += 1\n",
    "\n",
    "    def dequeue(self):\n",
    "        if self.front is None:\n",
    "            return None\n",
    "        temp = self.front\n",
    "        self.front = self.front.next\n",
    "        self.count -= 1\n",
    "        return temp.value\n",
    "    \n",
    "    def peek(self):\n",
    "        if self.front is None:\n",
    "            return None\n",
    "        return self.front.value\n",
    "    \n",
    "    def __str__(self):\n",
    "        temp=self.front\n",
    "        out=[]\n",
    "        while temp:\n",
    "            out.append(str(temp.value))\n",
    "            temp=temp.next\n",
    "        out='\\n'.join(out)\n",
    "        return ('Front:{}\\nRear:{}\\nQueue:\\n{}'.format(self.front.value,self.rear.value,out))\n",
    "    \n",
    "    def is_empty(self):\n",
    "        return self.count == 0\n",
    "    \n",
    "    def __len__(self):\n",
    "        return self.count\n",
    "\n",
    "queue=Queue()\n",
    "queue.enqueue(1)\n",
    "queue.enqueue(2)\n",
    "queue.enqueue(3)\n",
    "queue.enqueue(4)\n",
    "queue.enqueue(5)\n",
    "print(queue)\n",
    "print(\"Dequeue:\",queue.dequeue())\n",
    "print(queue)"
   ]
  },
  {
   "cell_type": "code",
   "execution_count": null,
   "metadata": {},
   "outputs": [],
   "source": []
  }
 ],
 "metadata": {
  "kernelspec": {
   "display_name": "py3p10",
   "language": "python",
   "name": "python3"
  },
  "language_info": {
   "codemirror_mode": {
    "name": "ipython",
    "version": 3
   },
   "file_extension": ".py",
   "mimetype": "text/x-python",
   "name": "python",
   "nbconvert_exporter": "python",
   "pygments_lexer": "ipython3",
   "version": "3.10.4"
  },
  "orig_nbformat": 4
 },
 "nbformat": 4,
 "nbformat_minor": 2
}

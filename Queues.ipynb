{
 "cells": [
  {
   "attachments": {},
   "cell_type": "markdown",
   "metadata": {},
   "source": [
    "# Queue\n",
    "\n",
    "FIFO/First come first serve. "
   ]
  },
  {
   "attachments": {},
   "cell_type": "markdown",
   "metadata": {},
   "source": [
    "# Listed List Queue"
   ]
  },
  {
   "cell_type": "code",
   "execution_count": 14,
   "metadata": {},
   "outputs": [
    {
     "name": "stdout",
     "output_type": "stream",
     "text": [
      "1->2->3->None\n",
      "Dequeue: 1\n",
      "2->3->None\n",
      "Dequeue: 2\n",
      "3->None\n",
      "Dequeue: 3\n",
      "None\n",
      "Dequeue: None\n",
      "None\n"
     ]
    }
   ],
   "source": [
    "class Node: #For Linked List\n",
    "    def __init__(self, data):\n",
    "        self.data = data\n",
    "        self.next = None # reference to the next node in the list\n",
    "\n",
    "class LinkedListQueue:\n",
    "    def __init__(self):\n",
    "        self.head = None\n",
    "        self.tail = None \n",
    "\n",
    "\n",
    "    def enqueue(self, data):\n",
    "        if not self.head: #empty list, create new head and tail\n",
    "            self.head = Node(data)\n",
    "            self.tail = self.head\n",
    "        else:\n",
    "            new_node=Node(data)\n",
    "            self.tail.next=new_node #add new node to the end of the list\n",
    "            self.tail=new_node #update tail to the new node\n",
    "\n",
    "    def dequeue(self):\n",
    "        if not self.head: #empty list\n",
    "            return None\n",
    "        else:\n",
    "            removed=self.head.data #remove head\n",
    "            self.head=self.head.next #update head\n",
    "            return removed\n",
    "        \n",
    "    def display(self):\n",
    "        current=self.head\n",
    "        while current:\n",
    "            print(current.data, end=\"->\")\n",
    "            current=current.next\n",
    "\n",
    "\n",
    "\n",
    "    \n",
    "queue=LinkedListQueue()\n",
    "queue.enqueue(1)\n",
    "queue.enqueue(2)\n",
    "queue.enqueue(3)\n",
    "print(queue.display()) \n",
    "print(\"Dequeue:\",queue.dequeue()) #remove 1\n",
    "print(queue.display()) \n",
    "print(\"Dequeue:\",queue.dequeue()) #remove 2\n",
    "print(queue.display())\n",
    "print(\"Dequeue:\",queue.dequeue()) #remove 3\n",
    "print(queue.display())\n",
    "print(\"Dequeue:\",queue.dequeue()) #remove None\n",
    "print(queue.display())"
   ]
  },
  {
   "attachments": {},
   "cell_type": "markdown",
   "metadata": {},
   "source": [
    "# List Queue : Expensive. \n",
    "\n",
    "The dequeue operation is expensive in a list-based Queue because it requires shifting all elements by one, which has a time complexity of O(n).\n",
    "\n"
   ]
  },
  {
   "cell_type": "code",
   "execution_count": 10,
   "metadata": {},
   "outputs": [
    {
     "name": "stdout",
     "output_type": "stream",
     "text": [
      "[1, 2, 3]\n",
      "Dequeue: 1\n",
      "[2, 3]\n",
      "Dequeue: 2\n",
      "[3]\n",
      "Dequeue: 3\n",
      "[]\n",
      "Dequeue: None\n",
      "[]\n"
     ]
    }
   ],
   "source": [
    "class ListQueue:\n",
    "    def __init__(self):\n",
    "        self.queue = list() \n",
    "\n",
    "    def enqueue(self, item):\n",
    "        self.queue.append(item)\n",
    "\n",
    "    def dequeue(self):\n",
    "        if len(self.queue) < 1:\n",
    "            return None\n",
    "        return self.queue.pop(0)\n",
    "    \n",
    "    def display(self):\n",
    "        print(self.queue)\n",
    "\n",
    "\n",
    "queue = ListQueue()\n",
    "\n",
    "queue.enqueue(1)\n",
    "queue.enqueue(2)\n",
    "queue.enqueue(3)\n",
    "queue.display()\n",
    "\n",
    "print(\"Dequeue:\",queue.dequeue()) #remove 1\n",
    "queue.display()\n",
    "print(\"Dequeue:\",queue.dequeue()) #remove 2\n",
    "queue.display()\n",
    "print(\"Dequeue:\",queue.dequeue()) #remove 3\n",
    "queue.display()\n",
    "print(\"Dequeue:\",queue.dequeue())  #remove None\n",
    "queue.display()\n"
   ]
  },
  {
   "attachments": {},
   "cell_type": "markdown",
   "metadata": {},
   "source": [
    "# DequeQueue : FASTER. \n",
    "\n",
    "Deque-based Queue is more efficient because deque.popleft() operation is O(1). Both enqueue and dequeue operations are therefore fast."
   ]
  },
  {
   "cell_type": "code",
   "execution_count": 11,
   "metadata": {},
   "outputs": [
    {
     "name": "stdout",
     "output_type": "stream",
     "text": [
      "deque([1, 2, 3])\n",
      "Dequeue: 1\n",
      "deque([2, 3])\n",
      "Dequeue: 2\n",
      "deque([3])\n",
      "Dequeue: 3\n",
      "deque([])\n",
      "Dequeue: None\n",
      "deque([])\n"
     ]
    }
   ],
   "source": [
    "from collections import deque\n",
    "\n",
    "class DequeQueue:\n",
    "    def __init__(self):\n",
    "        self.queue = deque()\n",
    "\n",
    "    def enqueue(self, item):\n",
    "        self.queue.append(item)\n",
    "\n",
    "    def dequeue(self):\n",
    "        if len(self.queue) < 1:\n",
    "            return None\n",
    "        return self.queue.popleft()\n",
    "    \n",
    "    def display(self):\n",
    "        print(self.queue)\n",
    "\n",
    "queue = DequeQueue()\n",
    "queue.enqueue(1)\n",
    "queue.enqueue(2)\n",
    "queue.enqueue(3)\n",
    "queue.display()\n",
    "print(\"Dequeue:\",queue.dequeue()) #remove 1\n",
    "queue.display()\n",
    "print(\"Dequeue:\",queue.dequeue()) #remove 2\n",
    "queue.display()\n",
    "print(\"Dequeue:\",queue.dequeue()) #remove 3\n",
    "queue.display()\n",
    "print(\"Dequeue:\",queue.dequeue())  #remove None\n",
    "queue.display()"
   ]
  },
  {
   "cell_type": "code",
   "execution_count": null,
   "metadata": {},
   "outputs": [],
   "source": []
  }
 ],
 "metadata": {
  "kernelspec": {
   "display_name": "py3p10",
   "language": "python",
   "name": "python3"
  },
  "language_info": {
   "codemirror_mode": {
    "name": "ipython",
    "version": 3
   },
   "file_extension": ".py",
   "mimetype": "text/x-python",
   "name": "python",
   "nbconvert_exporter": "python",
   "pygments_lexer": "ipython3",
   "version": "3.10.4"
  },
  "orig_nbformat": 4
 },
 "nbformat": 4,
 "nbformat_minor": 2
}

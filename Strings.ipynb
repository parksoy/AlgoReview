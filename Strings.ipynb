{
 "cells": [
  {
   "attachments": {},
   "cell_type": "markdown",
   "metadata": {},
   "source": [
    "# Strings\n",
    "\n",
    "Python string is immutable. You can't change in-place."
   ]
  },
  {
   "cell_type": "code",
   "execution_count": 2,
   "metadata": {},
   "outputs": [
    {
     "name": "stdout",
     "output_type": "stream",
     "text": [
      "Hello World\n",
      "65\n",
      "a\n"
     ]
    }
   ],
   "source": [
    "#Length of a String\n",
    "my_string = \"Hello, World!\"\n",
    "length = len(my_string)\n",
    "\n",
    "#concatenation\n",
    "str1 = \"Hello\"\n",
    "str2 = \"World\"\n",
    "concatenated = str1 + \" \" + str2\n",
    "\n",
    "#accessing ith character\n",
    "my_string = \"Hello\"\n",
    "char = my_string[2]\n",
    "\n",
    "#String Contains a Substring\n",
    "my_string = \"Hello, World!\"\n",
    "contains = \"World\" in my_string \n",
    "\n",
    "#String Starts with a Specific Prefix\n",
    "my_string = \"Hello, World!\"\n",
    "starts_with = my_string.startswith(\"Hello\") \n",
    "\n",
    "#Swapping Characters in a String:immutable, so we can't change its characters in-place. need to create a new string. \n",
    "my_string = \"Hello\"\n",
    "swapped_string = my_string[:2] + my_string[3] + my_string[2] + my_string[4:]\n",
    " \n",
    "#Converting String to Integer and Integer to String:\n",
    "string_num = \"42\"\n",
    "integer_num = int(string_num) \n",
    "\n",
    "num = 42\n",
    "string_num = str(num) \n",
    "\n",
    "#Punctuation\n",
    "import string\n",
    "\n",
    "#Method1\n",
    "my_string = \"Hello, World!\"\n",
    "no_punctuation = my_string.translate(str.maketrans(\"\", \"\", string.punctuation))\n",
    "print(no_punctuation)  # Output: \"Hello World\"\n",
    "\n",
    "#Method2\n",
    "punctuation = string.punctuation\n",
    "my_string.strip(punctuation) #removes the specified characters only from the beginning and end of the string, not from within the string.\n",
    "\n",
    "\n",
    "\n",
    "\n",
    "#Converting to Lowercase and Uppercase\n",
    "my_string = \"Hello, World!\"\n",
    "lower_case = my_string.lower()\n",
    "upper_case = my_string.upper() \n",
    "\n",
    "#ASCII vs. Unicode Conversion\n",
    "character = \"A\"\n",
    "ascii_value = ord(character) # from character to ascii_value(Unicode code point)\n",
    "print(ascii_value)  # Output: 65\n",
    "\n",
    "value = 97\n",
    "character = chr(value) #from ascii_value(Unicode code point) to character\n",
    "print(character)  # Output: \"a\"\n",
    "\n",
    "#String to string equality comparison\n",
    "string1 = \"Hello\"\n",
    "string2 = \"Hello\"\n",
    "print(string1 == string2)  \n",
    "\n",
    "#Handling Null, Empty String, or Length of 1 Character\n",
    "string = None  # Null\n",
    "if string is None:\n",
    "    print(\"String is null\")\n",
    "else:\n",
    "    if len(string) == 0:\n",
    "        print(\"String is empty\")\n",
    "    elif len(string) == 1:\n",
    "        print(\"String has length of 1\")\n",
    "    else:\n",
    "        print(\"String has length greater than 1\")\n",
    "\n",
    "# Output: String is null\n"
   ]
  },
  {
   "attachments": {},
   "cell_type": "markdown",
   "metadata": {},
   "source": [
    "# No StringBuilder class in Python but"
   ]
  },
  {
   "cell_type": "code",
   "execution_count": 3,
   "metadata": {},
   "outputs": [
    {
     "name": "stdout",
     "output_type": "stream",
     "text": [
      "Hello World !\n"
     ]
    }
   ],
   "source": [
    "#Method 1. Join. Efficient for multiple strings are stored. \n",
    "my_list = [\"Hello\", \"World\", \"!\"]\n",
    "combined_string = \" \".join(my_list)\n",
    "print(combined_string)  # Output: \"Hello World !\"\n"
   ]
  },
  {
   "cell_type": "code",
   "execution_count": null,
   "metadata": {},
   "outputs": [],
   "source": [
    "#Method 2: + operator. Less effieient than join(), when multiple string concatenation. each concatenation creates a new string object.\n",
    "str1 = \"Hello\"\n",
    "str2 = \"World\"\n",
    "combined_string = str1 + \" \" + str2 + \"!\"\n",
    "print(combined_string)  # Output: \"Hello World!\"\n"
   ]
  },
  {
   "attachments": {},
   "cell_type": "markdown",
   "metadata": {},
   "source": [
    "# Rotational Cipher\n",
    "One simple way to encrypt a string is to \"rotate\" every alphanumeric character by a certain amount. Rotating a character means replacing it with another character that is a certain number of steps away in normal alphabetic or numerical order.\n",
    "For example, if the string \"Zebra-493?\" is rotated 3 places, the resulting string is \"Cheud-726?\". Every alphabetic character is replaced with the character 3 letters higher (wrapping around from Z to A), and every numeric character replaced with the character 3 digits higher (wrapping around from 9 to 0). Note that the non-alphanumeric characters remain unchanged.\n",
    "Given a string and a rotation factor, return an encrypted string.\n",
    "Signature\n",
    "string rotationalCipher(string input, int rotationFactor)\n",
    "Input\n",
    "1 <= |input| <= 1,000,000\n",
    "0 <= rotationFactor <= 1,000,000\n",
    "Output\n",
    "Return the result of rotating input a number of times equal to rotationFactor.\n",
    "Example 1\n",
    "input = Zebra-493?\n",
    "rotationFactor = 3\n",
    "output = Cheud-726?\n",
    "Example 2\n",
    "input = abcdefghijklmNOPQRSTUVWXYZ0123456789\n",
    "rotationFactor = 39\n",
    "output = nopqrstuvwxyzABCDEFGHIJKLM9012345678"
   ]
  },
  {
   "cell_type": "code",
   "execution_count": null,
   "metadata": {},
   "outputs": [],
   "source": [
    "import math\n",
    "# Add any extra import statements you may need here\n",
    "\n",
    "\n",
    "# Add any helper functions you may need here\n",
    "\n",
    "\n",
    "def rotationalCipher(input_str, rotation_factor):\n",
    "  # Write your code here\n",
    "  return \"\"\n",
    "\n",
    "\n",
    "\n",
    "\n",
    "\n",
    "\n",
    "\n",
    "\n",
    "\n",
    "\n",
    "\n",
    "# These are the tests we use to determine if the solution is correct.\n",
    "# You can add your own at the bottom.\n",
    "\n",
    "def printString(string):\n",
    "  print('[\\\"', string, '\\\"]', sep='', end='')\n",
    "\n",
    "test_case_number = 1\n",
    "\n",
    "def check(expected, output):\n",
    "  global test_case_number\n",
    "  result = False\n",
    "  if expected == output:\n",
    "    result = True\n",
    "  rightTick = '\\u2713'\n",
    "  wrongTick = '\\u2717'\n",
    "  if result:\n",
    "    print(rightTick, 'Test #', test_case_number, sep='')\n",
    "  else:\n",
    "    print(wrongTick, 'Test #', test_case_number, ': Expected ', sep='', end='')\n",
    "    printString(expected)\n",
    "    print(' Your output: ', end='')\n",
    "    printString(output)\n",
    "    print()\n",
    "  test_case_number += 1\n",
    "\n",
    "if __name__ == \"__main__\":\n",
    "  input_1 = \"All-convoYs-9-be:Alert1.\"\n",
    "  rotation_factor_1 = 4\n",
    "  expected_1 = \"Epp-gsrzsCw-3-fi:Epivx5.\"\n",
    "  output_1 = rotationalCipher(input_1, rotation_factor_1)\n",
    "  check(expected_1, output_1)\n",
    "\n",
    "  input_2 = \"abcdZXYzxy-999.@\"\n",
    "  rotation_factor_2 = 200\n",
    "  expected_2 = \"stuvRPQrpq-999.@\"\n",
    "  output_2 = rotationalCipher(input_2, rotation_factor_2)\n",
    "  check(expected_2, output_2)\n",
    "\n",
    "  # Add your own test cases here\n",
    "  "
   ]
  },
  {
   "cell_type": "code",
   "execution_count": null,
   "metadata": {},
   "outputs": [],
   "source": []
  },
  {
   "cell_type": "code",
   "execution_count": null,
   "metadata": {},
   "outputs": [],
   "source": [
    "##"
   ]
  }
 ],
 "metadata": {
  "kernelspec": {
   "display_name": "py3p10",
   "language": "python",
   "name": "python3"
  },
  "language_info": {
   "codemirror_mode": {
    "name": "ipython",
    "version": 3
   },
   "file_extension": ".py",
   "mimetype": "text/x-python",
   "name": "python",
   "nbconvert_exporter": "python",
   "pygments_lexer": "ipython3",
   "version": "3.10.4"
  },
  "orig_nbformat": 4
 },
 "nbformat": 4,
 "nbformat_minor": 2
}

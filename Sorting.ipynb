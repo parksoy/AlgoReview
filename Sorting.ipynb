{
 "cells": [
  {
   "attachments": {},
   "cell_type": "markdown",
   "metadata": {},
   "source": [
    "# Sorting"
   ]
  },
  {
   "attachments": {},
   "cell_type": "markdown",
   "metadata": {},
   "source": [
    "## Bubble sort\n",
    "\n",
    "Time complexity  \n",
    "Space complexity  "
   ]
  },
  {
   "cell_type": "code",
   "execution_count": 12,
   "metadata": {},
   "outputs": [
    {
     "name": "stdout",
     "output_type": "stream",
     "text": [
      "i, j 8 1 [1, 4, 8, 9, 5, 2, 2, 4, 0]\n",
      "i, j 8 3 [1, 4, 8, 5, 9, 2, 2, 4, 0]\n",
      "i, j 8 4 [1, 4, 8, 5, 2, 9, 2, 4, 0]\n",
      "i, j 8 5 [1, 4, 8, 5, 2, 2, 9, 4, 0]\n",
      "i, j 8 6 [1, 4, 8, 5, 2, 2, 4, 9, 0]\n",
      "i, j 8 7 [1, 4, 8, 5, 2, 2, 4, 0, 9]\n",
      "i, j 7 2 [1, 4, 5, 8, 2, 2, 4, 0, 9]\n",
      "i, j 7 3 [1, 4, 5, 2, 8, 2, 4, 0, 9]\n",
      "i, j 7 4 [1, 4, 5, 2, 2, 8, 4, 0, 9]\n",
      "i, j 7 5 [1, 4, 5, 2, 2, 4, 8, 0, 9]\n",
      "i, j 7 6 [1, 4, 5, 2, 2, 4, 0, 8, 9]\n",
      "i, j 6 2 [1, 4, 2, 5, 2, 4, 0, 8, 9]\n",
      "i, j 6 3 [1, 4, 2, 2, 5, 4, 0, 8, 9]\n",
      "i, j 6 4 [1, 4, 2, 2, 4, 5, 0, 8, 9]\n",
      "i, j 6 5 [1, 4, 2, 2, 4, 0, 5, 8, 9]\n",
      "i, j 5 1 [1, 2, 4, 2, 4, 0, 5, 8, 9]\n",
      "i, j 5 2 [1, 2, 2, 4, 4, 0, 5, 8, 9]\n",
      "i, j 5 4 [1, 2, 2, 4, 0, 4, 5, 8, 9]\n",
      "i, j 4 3 [1, 2, 2, 0, 4, 4, 5, 8, 9]\n",
      "i, j 3 2 [1, 2, 0, 2, 4, 4, 5, 8, 9]\n",
      "i, j 2 1 [1, 0, 2, 2, 4, 4, 5, 8, 9]\n",
      "i, j 1 0 [0, 1, 2, 2, 4, 4, 5, 8, 9]\n"
     ]
    },
    {
     "data": {
      "text/plain": [
       "[0, 1, 2, 2, 4, 4, 5, 8, 9]"
      ]
     },
     "execution_count": 12,
     "metadata": {},
     "output_type": "execute_result"
    }
   ],
   "source": [
    "# Bubblesort\n",
    "# 1. compare the first two elements\n",
    "# 2. if the first element is larger than the second element, swap them\n",
    "# 3. move to the next pair of elements, repeat step 1 and 2\n",
    "# 4. if the end of the array is reached, start again from the beginning\n",
    "# 5. repeat steps 1-4 until the array is sorted\n",
    "\n",
    "def bubblesort(A):\n",
    "    for i in range(len(A)-1,0,-1):\n",
    "        for j in range(i):\n",
    "            if A[j]>A[j+1]:\n",
    "                A[j],A[j+1]=A[j+1],A[j]\n",
    "                print(\"i, j\", i,j, A)\n",
    "    return A\n",
    "\n",
    "\n",
    "\n",
    "array=[1,8,4,9,5,2,2,4,0]\n",
    "bubblesort(array)"
   ]
  },
  {
   "attachments": {},
   "cell_type": "markdown",
   "metadata": {},
   "source": [
    "## Merge sort\n",
    "\n",
    "Time complexity  \n",
    "Space complexity  \n"
   ]
  },
  {
   "cell_type": "code",
   "execution_count": 22,
   "metadata": {},
   "outputs": [
    {
     "name": "stdout",
     "output_type": "stream",
     "text": [
      "calling mergesort on left\n",
      "calling mergesort on left\n",
      "calling mergesort on left\n",
      "calling mergesort on right\n",
      "0 0 1\n",
      "In merge, leftArray, rightArray [35] [46]\n",
      "calling mergesort on right\n",
      "calling mergesort on left\n",
      "calling mergesort on right\n",
      "2 2 3\n",
      "In merge, leftArray, rightArray [36] [9]\n",
      "0 1 3\n",
      "In merge, leftArray, rightArray [35, 46] [9, 36]\n",
      "calling mergesort on right\n",
      "calling mergesort on left\n",
      "calling mergesort on left\n",
      "calling mergesort on right\n",
      "4 4 5\n",
      "In merge, leftArray, rightArray [15] [6]\n",
      "calling mergesort on right\n",
      "4 5 6\n",
      "In merge, leftArray, rightArray [6, 15] [3]\n",
      "0 3 6\n",
      "In merge, leftArray, rightArray [9, 35, 36, 46] [3, 6, 15]\n"
     ]
    },
    {
     "data": {
      "text/plain": [
       "[3, 6, 9, 15, 35, 36, 46]"
      ]
     },
     "execution_count": 22,
     "metadata": {},
     "output_type": "execute_result"
    }
   ],
   "source": [
    "# Merge sort \n",
    "# 1. divide the unsorted list into n sublists, each containing 1 element\n",
    "# 2. repeatedly merge sublists to produce new sorted sublists until there is only 1 sublist remaining\n",
    "# 3. this will be the sorted list\n",
    "\n",
    "import math\n",
    "\n",
    "def mergesort(array, left, right):\n",
    "    if left < right:\n",
    "        middle = math.floor((left + right)/2)\n",
    "       #print(\"calling mergesort on left\")\n",
    "        mergesort(array, left, middle)\n",
    "        #print(\"calling mergesort on right\")\n",
    "        mergesort(array, middle+1, right)\n",
    "        \n",
    "        return merge(array, left, middle, right)\n",
    "    \n",
    "\n",
    "def merge(array, left, middle, right):\n",
    "    leftArray = array[left:middle+1]\n",
    "    rightArray = array[middle+1:right+1]\n",
    "    #print( left, middle, right)\n",
    "    #print(\"In merge, leftArray, rightArray\", leftArray, rightArray)\n",
    "    leftArray.append(float('inf'))\n",
    "    rightArray.append(float('inf'))\n",
    "    i = 0\n",
    "    j = 0\n",
    "    for k in range(left, right+1):\n",
    "        if leftArray[i] <= rightArray[j]:\n",
    "            array[k] = leftArray[i]\n",
    "            i += 1\n",
    "        else:\n",
    "            array[k] = rightArray[j]\n",
    "            j += 1\n",
    "    return array\n",
    "\n",
    "array=[35,46,36,9,15,6,3]\n",
    "mergesort(array, 0, len(array)-1)"
   ]
  },
  {
   "cell_type": "code",
   "execution_count": 19,
   "metadata": {},
   "outputs": [
    {
     "data": {
      "text/plain": [
       "[35, 46, 36]"
      ]
     },
     "execution_count": 19,
     "metadata": {},
     "output_type": "execute_result"
    }
   ],
   "source": [
    "array=[35,46,36,9,15,6,3]\n",
    "array[0:3]"
   ]
  },
  {
   "attachments": {},
   "cell_type": "markdown",
   "metadata": {},
   "source": [
    "# Quick sort\n",
    "\n",
    "Time complexity  \n",
    "Space complexity  "
   ]
  },
  {
   "cell_type": "code",
   "execution_count": 16,
   "metadata": {},
   "outputs": [
    {
     "name": "stdout",
     "output_type": "stream",
     "text": [
      "less [9, 15, 6, 3] pivot 35 greater [46, 36]\n",
      "less [6, 3] pivot 9 greater [15]\n",
      "less [3] pivot 6 greater []\n",
      "less [36] pivot 46 greater []\n"
     ]
    },
    {
     "data": {
      "text/plain": [
       "[3, 6, 9, 15, 35, 36, 46]"
      ]
     },
     "execution_count": 16,
     "metadata": {},
     "output_type": "execute_result"
    }
   ],
   "source": [
    "# Quicksort, Time complexity: O(n log n), space complexity: O(log n)\n",
    "# 1. pick an element, called a pivot, from the array\n",
    "# 2. reorder the array so that all elements with values less than the pivot come before the pivot, while all elements with values greater than the pivot come after it\n",
    "# 3. after this partitioning, the pivot is in its final position\n",
    "# 4. recursively apply the above steps to the sub-array of elements with smaller values and separately to the sub-array of elements with greater values\n",
    "\n",
    "array=[35,46,36,9,15,6,3]\n",
    "\n",
    "def quicksort(array):\n",
    "    if len(array) < 2:\n",
    "        return array\n",
    "    else:\n",
    "        pivot = array[0]\n",
    "        less = [i for i in array[1:] if i < pivot]\n",
    "        greater = [i for i in array[1:] if i > pivot]\n",
    "        print(\"less\", less, \"pivot\", pivot, \"greater\", greater)\n",
    "        return quicksort(less) + [pivot] + quicksort(greater)\n",
    "    \n",
    "quicksort(array)\n"
   ]
  },
  {
   "attachments": {},
   "cell_type": "markdown",
   "metadata": {},
   "source": [
    "# Insertion sort\n",
    "Time complexity  \n",
    "Space complexity  "
   ]
  },
  {
   "cell_type": "code",
   "execution_count": 7,
   "metadata": {},
   "outputs": [
    {
     "data": {
      "text/plain": [
       "[0, 1, 2, 2, 4, 4, 5, 8, 9]"
      ]
     },
     "execution_count": 7,
     "metadata": {},
     "output_type": "execute_result"
    }
   ],
   "source": [
    "# Insertion sort, Time complexity: O(n^2), space complexity: O(1)\n",
    "# 1. start from the second element in the array\n",
    "# 2. compare the second element with the first element, if the second element is smaller, swap them\n",
    "# 3. move to the third element, compare it with the second element, if the third element is smaller, swap them\n",
    "# 4. repeat step 3 until the end of the array is reached\n",
    "# 5. repeat steps 2-4 until the array is sorted\n",
    "\n",
    "def insertionsort(array):\n",
    "    for i in range(1, len(array)):\n",
    "        j = i\n",
    "        while j > 0 and array[j-1] > array[j]:\n",
    "            array[j-1], array[j] = array[j], array[j-1]\n",
    "            j -= 1\n",
    "    return array\n",
    "\n",
    "insertionsort(array)\n"
   ]
  },
  {
   "attachments": {},
   "cell_type": "markdown",
   "metadata": {},
   "source": [
    "# Radix sort"
   ]
  },
  {
   "cell_type": "code",
   "execution_count": 8,
   "metadata": {},
   "outputs": [
    {
     "data": {
      "text/plain": [
       "[0, 1, 2, 2, 4, 4, 5, 8, 9]"
      ]
     },
     "execution_count": 8,
     "metadata": {},
     "output_type": "execute_result"
    }
   ],
   "source": [
    "# Radix sort\n",
    "# 1. take the least significant digit of each number in the array\n",
    "# 2. group the numbers by that digit, but keep the original order of numbers\n",
    "# 3. repeat step 1 and 2 with the next digit until all digits have been considered\n",
    "\n",
    "\n",
    "def radixsort(array):\n",
    "    max_value = max(array)\n",
    "    max_exponent = len(str(max_value))\n",
    "    being_sorted = array[:]\n",
    "    for exponent in range(max_exponent):\n",
    "        position = exponent + 1\n",
    "        index = -position\n",
    "        digits = [[] for i in range(10)]\n",
    "        for number in being_sorted:\n",
    "            number_as_a_string = str(number)\n",
    "            try:\n",
    "                digit = number_as_a_string[index]\n",
    "            except IndexError:\n",
    "                digit = 0\n",
    "            digit = int(digit)\n",
    "            digits[digit].append(number)\n",
    "        being_sorted = []\n",
    "        for numeral in digits:\n",
    "            being_sorted.extend(numeral)\n",
    "    return being_sorted\n",
    "\n",
    "radixsort(array)\n"
   ]
  },
  {
   "cell_type": "code",
   "execution_count": 9,
   "metadata": {},
   "outputs": [
    {
     "data": {
      "text/plain": [
       "[0, 1, 2, 2, 4, 4, 5, 8, 9]"
      ]
     },
     "execution_count": 9,
     "metadata": {},
     "output_type": "execute_result"
    }
   ],
   "source": [
    "#Bucket sort\n",
    "# 1. set up an array of initially empty \"buckets\"\n",
    "# 2. scatter: go over the original array, putting each object in its bucket\n",
    "# 3. sort each non-empty bucket\n",
    "# 4. gather: visit the buckets in order and put all elements back into the original array\n",
    "\n",
    "\n",
    "def bucketsort(array):\n",
    "    buckets = [[] for i in range(10)]\n",
    "    for number in array:\n",
    "        bucket_index = number // 10\n",
    "        buckets[bucket_index].append(number)\n",
    "    sorted_array = []\n",
    "    for bucket in buckets:\n",
    "        sorted_array.extend(sorted(bucket))\n",
    "    return sorted_array\n",
    "\n",
    "bucketsort(array)"
   ]
  },
  {
   "attachments": {},
   "cell_type": "markdown",
   "metadata": {},
   "source": [
    "# Selection Sort"
   ]
  },
  {
   "cell_type": "code",
   "execution_count": 10,
   "metadata": {},
   "outputs": [
    {
     "data": {
      "text/plain": [
       "[0, 1, 2, 2, 4, 4, 5, 8, 9]"
      ]
     },
     "execution_count": 10,
     "metadata": {},
     "output_type": "execute_result"
    }
   ],
   "source": [
    "#Selection sort\n",
    "# 1. find the smallest element in the array and exchange it with the element in the first position\n",
    "# 2. find the second smallest element in the array and exchange it with the element in the second position\n",
    "# 3. repeat step 2 until the entire array is sorted\n",
    "\n",
    "def selectionsort(array):\n",
    "    for i in range(len(array)):\n",
    "        min_index = i\n",
    "        for j in range(i+1, len(array)):\n",
    "            if array[j] < array[min_index]:\n",
    "                min_index = j\n",
    "        array[i], array[min_index] = array[min_index], array[i]\n",
    "    return array\n",
    "\n",
    "selectionsort(array)"
   ]
  },
  {
   "cell_type": "code",
   "execution_count": null,
   "metadata": {},
   "outputs": [],
   "source": []
  }
 ],
 "metadata": {
  "kernelspec": {
   "display_name": "py3p10",
   "language": "python",
   "name": "python3"
  },
  "language_info": {
   "codemirror_mode": {
    "name": "ipython",
    "version": 3
   },
   "file_extension": ".py",
   "mimetype": "text/x-python",
   "name": "python",
   "nbconvert_exporter": "python",
   "pygments_lexer": "ipython3",
   "version": "3.10.4"
  },
  "orig_nbformat": 4
 },
 "nbformat": 4,
 "nbformat_minor": 2
}
